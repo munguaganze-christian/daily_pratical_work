{
 "cells": [
  {
   "cell_type": "markdown",
   "id": "d68c1dee",
   "metadata": {
    "id": "d68c1dee"
   },
   "source": [
    "# Practical_3: Iterable objects or Containers"
   ]
  },
  {
   "cell_type": "markdown",
   "id": "6c465574-7454-43af-9a7b-8840ef71b907",
   "metadata": {
    "id": "bea983a3"
   },
   "source": [
    "---\n",
    "\n",
    "### Exercise 1:\n",
    "Create a list of integers from 1 to 10.\n",
    "\n",
    "```python\n",
    "# Exercise 1"
   ]
  },
  {
   "cell_type": "code",
   "execution_count": 4,
   "id": "8a621f4b-bc23-4b8f-9c1b-62d4bd3f175d",
   "metadata": {},
   "outputs": [
    {
     "data": {
      "text/plain": [
       "[1, 2, 3, 4, 5, 6, 7, 8, 9, 10]"
      ]
     },
     "execution_count": 4,
     "metadata": {},
     "output_type": "execute_result"
    }
   ],
   "source": [
    "#Answer 1\n",
    "my_list = [1,2,3,4,5,6,7,8,9,10]\n",
    "my_list"
   ]
  },
  {
   "cell_type": "code",
   "execution_count": 15,
   "id": "bbee25b6-cb73-4596-b393-d3bdb8003afd",
   "metadata": {},
   "outputs": [
    {
     "name": "stdout",
     "output_type": "stream",
     "text": [
      "[1, 2, 3, 4, 5, 6, 7, 8, 9, 10]\n"
     ]
    }
   ],
   "source": [
    "my_list2 = [1]\n",
    "type(my_list2)\n",
    "\n",
    "for i in range(2,11):\n",
    "    my_list2.append(i)\n",
    "\n",
    "print(my_list2)"
   ]
  },
  {
   "cell_type": "markdown",
   "id": "66c85c88-57ae-449e-b908-09ae8c7b7b89",
   "metadata": {
    "id": "bea983a3"
   },
   "source": [
    "```\n",
    "---\n",
    "### Exercise 2:\n",
    "Create a tuple containing the elements `\"apple\"`, `\"banana\"`, and `\"cherry\"`.\n",
    "\n",
    "```python\n",
    "# Exercise 2\n",
    "```"
   ]
  },
  {
   "cell_type": "code",
   "execution_count": 16,
   "id": "428fdf75-3332-4e0a-b735-a09d0b5a9913",
   "metadata": {},
   "outputs": [
    {
     "data": {
      "text/plain": [
       "('apple', 'banana', 'cherry')"
      ]
     },
     "execution_count": 16,
     "metadata": {},
     "output_type": "execute_result"
    }
   ],
   "source": [
    "# Exercice 2:\n",
    "\n",
    "my_tuple = (\"apple\",\"banana\",\"cherry\")\n",
    "my_tuple"
   ]
  },
  {
   "cell_type": "markdown",
   "id": "f53df77d-1615-46a0-994e-6bb2bd0d6d0a",
   "metadata": {
    "id": "bea983a3"
   },
   "source": [
    "---\n",
    "\n",
    "### Exercise 3:\n",
    "Convert the list `numbers = [10, 20, 30, 40]` into a tuple.\n",
    "\n",
    "```python\n",
    "# Exercise 3\n",
    "```"
   ]
  },
  {
   "cell_type": "code",
   "execution_count": 19,
   "id": "c4e59e93-586b-4fe5-8302-7e562df6a60a",
   "metadata": {},
   "outputs": [
    {
     "data": {
      "text/plain": [
       "tuple"
      ]
     },
     "execution_count": 19,
     "metadata": {},
     "output_type": "execute_result"
    }
   ],
   "source": [
    "# Answer 3:\n",
    "numbers = [10, 20, 30, 40]\n",
    "tnumbers = tuple(numbers)\n",
    "type(tnumbers)\n",
    "\n",
    "#print(tnumbers)"
   ]
  },
  {
   "cell_type": "markdown",
   "id": "8c2e7268-b921-4941-b3db-377a62c3f7d7",
   "metadata": {
    "id": "bea983a3"
   },
   "source": [
    "---\n",
    "\n",
    "### Exercise 4:\n",
    "Create a set containing the elements `1, 2, 3, 4, 5`.\n",
    "\n",
    "```python\n",
    "# Exercise 4\n",
    "```"
   ]
  },
  {
   "cell_type": "code",
   "execution_count": 20,
   "id": "74274e85-b9ff-4a8a-baba-7a8dba104322",
   "metadata": {},
   "outputs": [
    {
     "data": {
      "text/plain": [
       "set"
      ]
     },
     "execution_count": 20,
     "metadata": {},
     "output_type": "execute_result"
    }
   ],
   "source": [
    "# Aswer 4:\n",
    "my_set = {1, 2, 3, 4, 5}\n",
    "type(my_set)"
   ]
  },
  {
   "cell_type": "markdown",
   "id": "0e98b660-b6d0-4b44-9fa9-e8aa9a5ad42a",
   "metadata": {
    "id": "bea983a3"
   },
   "source": [
    "---\n",
    "\n",
    "### Exercise 5:\n",
    "Create a dictionary `student` with the keys `\"name\"`, `\"age\"`, and `\"grade\"` and corresponding values `\"Alice\"`, `20`, and `\"A\"`.\n",
    "\n",
    "```python\n",
    "# Exercise 5\n",
    "```"
   ]
  },
  {
   "cell_type": "code",
   "execution_count": 21,
   "id": "f9de8c5f-33a6-40cf-90b1-7134d8b4a97b",
   "metadata": {},
   "outputs": [],
   "source": [
    "stundent = {\"name\":\"Alice\",\"age\":20, \"grade\":\"A\"}"
   ]
  },
  {
   "cell_type": "markdown",
   "id": "45533177-d95e-4d57-a611-11eb4eb52cf8",
   "metadata": {
    "id": "bea983a3"
   },
   "source": [
    "---\n",
    "\n",
    "### Exercise 6:\n",
    "Access the second element of the list `[10, 20, 30, 40, 50]` using indexing.\n",
    "\n",
    "```python\n",
    "# Exercise 6\n",
    "```"
   ]
  },
  {
   "cell_type": "code",
   "execution_count": 22,
   "id": "7a11bd58-aae5-4feb-9c5a-5253cdbdc933",
   "metadata": {},
   "outputs": [
    {
     "name": "stdout",
     "output_type": "stream",
     "text": [
      "20\n"
     ]
    }
   ],
   "source": [
    "this_list = [10,20,30,40,50]\n",
    "print(this_list[1])"
   ]
  },
  {
   "cell_type": "markdown",
   "id": "c42cac3f-e412-4aba-8a15-f58977e99829",
   "metadata": {
    "id": "bea983a3"
   },
   "source": [
    "---\n",
    "\n",
    "### Exercise 7:\n",
    "Change the third element of the list `fruits = [\"apple\", \"banana\", \"cherry\", \"orange\"]` to `\"mango\"`.\n",
    "\n",
    "```python\n",
    "# Exercise 7\n",
    "```"
   ]
  },
  {
   "cell_type": "code",
   "execution_count": 23,
   "id": "e8454d6f-0f7e-4900-969c-515581da5d20",
   "metadata": {},
   "outputs": [
    {
     "data": {
      "text/plain": [
       "['apple', 'banana', 'mango', 'orange']"
      ]
     },
     "execution_count": 23,
     "metadata": {},
     "output_type": "execute_result"
    }
   ],
   "source": [
    "fruits = [\"apple\", \"banana\", \"cherry\",\"orange\"]\n",
    "fruits[2] = \"mango\"\n",
    "fruits"
   ]
  },
  {
   "cell_type": "markdown",
   "id": "a72c8b5f-4155-4163-8276-7b4435e20775",
   "metadata": {
    "id": "bea983a3"
   },
   "source": [
    "---\n",
    "\n",
    "### Exercise 8:\n",
    "Add the number `6` to the set `numbers = {1, 2, 3, 4, 5}`.\n",
    "\n",
    "```python\n",
    "# Exercise 8\n",
    "```"
   ]
  },
  {
   "cell_type": "code",
   "execution_count": 26,
   "id": "7adb50a5-ebb8-4917-ba80-23a21e019572",
   "metadata": {},
   "outputs": [
    {
     "data": {
      "text/plain": [
       "{1, 2, 3, 4, 5, 6}"
      ]
     },
     "execution_count": 26,
     "metadata": {},
     "output_type": "execute_result"
    }
   ],
   "source": [
    "numbers = {1,2,3,4,5}\n",
    "numbers.add(6)\n",
    "numbers"
   ]
  },
  {
   "cell_type": "markdown",
   "id": "c423c019-b388-4edf-b7c1-648b7f7d60fe",
   "metadata": {
    "id": "bea983a3"
   },
   "source": [
    "---\n",
    "\n",
    "### Exercise 9:\n",
    "Remove the key `\"age\"` from the dictionary `person = {\"name\": \"John\", \"age\": 25, \"city\": \"New York\"}`.\n",
    "\n",
    "```python\n",
    "# Exercise 9\n",
    "```"
   ]
  },
  {
   "cell_type": "code",
   "execution_count": 30,
   "id": "c2e54dd4-75ef-4c85-b273-e3c796242463",
   "metadata": {},
   "outputs": [
    {
     "data": {
      "text/plain": [
       "{'name': 'John', 'city': 'New York'}"
      ]
     },
     "execution_count": 30,
     "metadata": {},
     "output_type": "execute_result"
    }
   ],
   "source": [
    "person = {\"name\": \"John\", \"age\": 25, \"city\": \"New York\"}\n",
    "person.pop(\"age\")  # supprime et peut afficher la valeur de la clé avec print(value)\n",
    "person\n"
   ]
  },
  {
   "cell_type": "code",
   "execution_count": 31,
   "id": "a198422c-cb61-4836-8699-908d4782c1a1",
   "metadata": {},
   "outputs": [
    {
     "data": {
      "text/plain": [
       "{'name': 'John', 'city': 'New York'}"
      ]
     },
     "execution_count": 31,
     "metadata": {},
     "output_type": "execute_result"
    }
   ],
   "source": [
    "person = {\"name\": \"John\", \"age\": 25, \"city\": \"New York\"}\n",
    "\n",
    "del person[\"age\"]\n",
    "\n",
    "person"
   ]
  },
  {
   "cell_type": "markdown",
   "id": "fb54526b-0652-4381-92aa-06f281b7ab4d",
   "metadata": {
    "id": "bea983a3"
   },
   "source": [
    "---\n",
    "\n",
    "### Exercise 10:\n",
    "Create a range object starting from 0 to 9.\n",
    "\n",
    "```python\n",
    "# Exercise 10\n",
    "```"
   ]
  },
  {
   "cell_type": "code",
   "execution_count": 37,
   "id": "5d2be92b-d7f4-4e32-9c2e-dea6f5e51ea3",
   "metadata": {},
   "outputs": [
    {
     "data": {
      "text/plain": [
       "[0, 1, 2, 3, 4, 5, 6, 7, 8, 9]"
      ]
     },
     "execution_count": 37,
     "metadata": {},
     "output_type": "execute_result"
    }
   ],
   "source": [
    "list_zero2nine = list(range(10))\n",
    "list_zero2nine"
   ]
  },
  {
   "cell_type": "code",
   "execution_count": 38,
   "id": "c5f682b3-3bdd-438a-bee3-bcad7934fcdc",
   "metadata": {},
   "outputs": [
    {
     "data": {
      "text/plain": [
       "{0, 1, 2, 3, 4, 5, 6, 7, 8, 9}"
      ]
     },
     "execution_count": 38,
     "metadata": {},
     "output_type": "execute_result"
    }
   ],
   "source": [
    "set_zero2nine = set(range(10))\n",
    "set_zero2nine"
   ]
  },
  {
   "cell_type": "code",
   "execution_count": 39,
   "id": "23de92b5-34dc-47cd-ac91-aba37f69f169",
   "metadata": {},
   "outputs": [
    {
     "data": {
      "text/plain": [
       "(0, 1, 2, 3, 4, 5, 6, 7, 8, 9)"
      ]
     },
     "execution_count": 39,
     "metadata": {},
     "output_type": "execute_result"
    }
   ],
   "source": [
    "tuple_zero2nine = tuple(range(10))\n",
    "tuple_zero2nine"
   ]
  },
  {
   "cell_type": "markdown",
   "id": "6619ffc2-d541-42e1-9731-1da14e8db344",
   "metadata": {
    "id": "bea983a3"
   },
   "source": [
    "---\n",
    "\n",
    "### Exercise 11:\n",
    "Use a list comprehension to create a list of squares of numbers from 1 to 10.\n",
    "\n",
    "```python\n",
    "# Exercise 11\n",
    "```"
   ]
  },
  {
   "cell_type": "code",
   "execution_count": 41,
   "id": "5943b66f-2db1-4dd5-8e17-35dcf098d35e",
   "metadata": {},
   "outputs": [
    {
     "data": {
      "text/plain": [
       "[2, 4, 6, 8, 10, 12, 14, 16, 18, 20]"
      ]
     },
     "execution_count": 41,
     "metadata": {},
     "output_type": "execute_result"
    }
   ],
   "source": [
    "list_comp_of_squares_one2ten = [i*2 for i in range(1,11)]\n",
    "list_comp_of_squares_one2ten"
   ]
  },
  {
   "cell_type": "markdown",
   "id": "d6f57c75-d7f4-4d8b-97ed-d5eba846e48d",
   "metadata": {
    "id": "bea983a3"
   },
   "source": [
    "---\n",
    "\n",
    "### Exercise 12:\n",
    "Create a tuple of even numbers between 2 and 10 using a tuple comprehension.\n",
    "\n",
    "```python\n",
    "# Exercise 12\n",
    "```"
   ]
  },
  {
   "cell_type": "code",
   "execution_count": 47,
   "id": "0d9045c8-5544-4e24-bc10-517ac6e464a8",
   "metadata": {},
   "outputs": [
    {
     "name": "stdout",
     "output_type": "stream",
     "text": [
      "(2, 4, 6, 8)\n"
     ]
    }
   ],
   "source": [
    "tuple_comp_even2andten = tuple(i for i in range(2,10,2)) # without the tuple() funtion, it doesn't work; differently from the liste\n",
    "print(tuple_comp_even2andten)"
   ]
  },
  {
   "cell_type": "markdown",
   "id": "d373f75e-33a7-4a3a-86e3-b289986f2b1f",
   "metadata": {
    "id": "bea983a3"
   },
   "source": [
    "---\n",
    "\n",
    "### Exercise 13:\n",
    "Use a for loop to iterate through the list `fruits = [\"apple\", \"banana\", \"cherry\"]` and print each element.\n",
    "\n",
    "```python\n",
    "# Exercise 13\n",
    "```"
   ]
  },
  {
   "cell_type": "code",
   "execution_count": 48,
   "id": "87c91c11-6089-46b0-93b9-85011535de4c",
   "metadata": {},
   "outputs": [
    {
     "name": "stdout",
     "output_type": "stream",
     "text": [
      "apple\n",
      "banana\n",
      "cherry\n"
     ]
    }
   ],
   "source": [
    "fruits = [\"apple\", \"banana\", \"cherry\"]\n",
    "\n",
    "for fruit in fruits:\n",
    "    print(fruit)"
   ]
  },
  {
   "cell_type": "markdown",
   "id": "e6d99a3d-7002-4b61-bd41-01443678e5ca",
   "metadata": {
    "id": "bea983a3"
   },
   "source": [
    "---\n",
    "\n",
    "### Exercise 14:\n",
    "Check if the value `3` exists in the set `numbers = {1, 2, 3, 4, 5}`.\n",
    "\n",
    "```python\n",
    "# Exercise 14\n",
    "```"
   ]
  },
  {
   "cell_type": "code",
   "execution_count": 54,
   "id": "dae11d91-7311-42a2-a41a-802d903c4f11",
   "metadata": {},
   "outputs": [
    {
     "data": {
      "text/plain": [
       "True"
      ]
     },
     "execution_count": 54,
     "metadata": {},
     "output_type": "execute_result"
    }
   ],
   "source": [
    "numbers = {1, 2, 3, 4, 5}\n",
    "res = 3 in(numbers)\n",
    "res"
   ]
  },
  {
   "cell_type": "markdown",
   "id": "6c68225c-9030-4240-83fb-979479080241",
   "metadata": {
    "id": "bea983a3"
   },
   "source": [
    "---\n",
    "\n",
    "### Exercise 15:\n",
    "Use the `len()` function to find the length of the tuple `numbers = (10, 20, 30)`.\n",
    "\n",
    "```python\n",
    "# Exercise 15\n",
    "```"
   ]
  },
  {
   "cell_type": "code",
   "execution_count": 55,
   "id": "1d73835f-c77a-4f2b-ae49-8c5fd9b4da8a",
   "metadata": {},
   "outputs": [
    {
     "data": {
      "text/plain": [
       "3"
      ]
     },
     "execution_count": 55,
     "metadata": {},
     "output_type": "execute_result"
    }
   ],
   "source": [
    "numbers = (10, 20, 30)\n",
    "\n",
    "len(numbers)"
   ]
  },
  {
   "cell_type": "markdown",
   "id": "bde31154-1872-4e49-a8c3-4a9676ccf3cd",
   "metadata": {
    "id": "bea983a3"
   },
   "source": [
    "---\n",
    "\n",
    "### Exercise 16:\n",
    "Add the value `100` at the end of the list `scores = [80, 85, 90, 95]`.\n",
    "\n",
    "```python\n",
    "# Exercise 16\n",
    "```"
   ]
  },
  {
   "cell_type": "code",
   "execution_count": 57,
   "id": "a9fac252-4f84-4e30-9fd0-1f339a165462",
   "metadata": {},
   "outputs": [
    {
     "data": {
      "text/plain": [
       "[80, 85, 90, 95, 100]"
      ]
     },
     "execution_count": 57,
     "metadata": {},
     "output_type": "execute_result"
    }
   ],
   "source": [
    "scores = [80, 85, 90, 95]\n",
    "scores.append(100)\n",
    "scores"
   ]
  },
  {
   "cell_type": "markdown",
   "id": "1089f4b3-8538-481a-a5ad-736eb46358a3",
   "metadata": {
    "id": "bea983a3"
   },
   "source": [
    "---\n",
    "\n",
    "### Exercise 17:\n",
    "Write a function that takes a list as input and returns the sum of all elements in the list.\n",
    "\n",
    "```python\n",
    "# Exercise 17\n",
    "```"
   ]
  },
  {
   "cell_type": "code",
   "execution_count": 62,
   "id": "68f00c3a-dbbb-417c-b167-b6403247f420",
   "metadata": {},
   "outputs": [
    {
     "data": {
      "text/plain": [
       "450"
      ]
     },
     "execution_count": 62,
     "metadata": {},
     "output_type": "execute_result"
    }
   ],
   "source": [
    "# with for loop : quite longn but ...\n",
    "def sum_elem_list(my_list:list):\n",
    "    sum_elem = 0\n",
    "    for i in my_list:\n",
    "        sum_elem += i\n",
    "    return sum_elem\n",
    "\n",
    "sum_elem_list(scores)"
   ]
  },
  {
   "cell_type": "code",
   "execution_count": 65,
   "id": "0f3d76d7-c37c-4e4b-9d3f-22ca3bb90512",
   "metadata": {},
   "outputs": [
    {
     "data": {
      "text/plain": [
       "50"
      ]
     },
     "execution_count": 65,
     "metadata": {},
     "output_type": "execute_result"
    }
   ],
   "source": [
    "# without sum fonnction : verry short code\n",
    "def sum_elem_list(my_list:list):\n",
    "    return sum(m_list)\n",
    "\n",
    "m_list = [0, 5, 10, 15, 20]\n",
    "sum_elem_list(m_list)"
   ]
  },
  {
   "cell_type": "code",
   "execution_count": 67,
   "id": "8b90da3f-6e57-42e4-97d1-1d4556d88865",
   "metadata": {},
   "outputs": [
    {
     "data": {
      "text/plain": [
       "50"
      ]
     },
     "execution_count": 67,
     "metadata": {},
     "output_type": "execute_result"
    }
   ],
   "source": [
    "# Using while loop : quite long code, but annyway :\n",
    "\n",
    "def sum_of_elem_list(the_liste:list):\n",
    "    summ = 0\n",
    "    i=0\n",
    "    while i <= len(the_liste):\n",
    "        summ += i\n",
    "        i+=1\n",
    "        return summ\n",
    "        \n",
    "the_liste = [0, 5, 10, 15, 20]\n",
    "sum_elem_list(the_liste)"
   ]
  },
  {
   "cell_type": "markdown",
   "id": "db315975-8ea3-4736-9234-9dffbeae7f51",
   "metadata": {
    "id": "bea983a3"
   },
   "source": [
    "---\n",
    "\n",
    "### Exercise 18:\n",
    "Create a set containing the unique elements of the list `numbers = [1, 2, 2, 3, 4, 4, 5]`.\n",
    "\n",
    "```python\n",
    "# Exercise 18\n",
    "```"
   ]
  },
  {
   "cell_type": "code",
   "execution_count": 10,
   "id": "95e2ad66-9af3-4a55-a4c7-f695fd2a575f",
   "metadata": {},
   "outputs": [
    {
     "data": {
      "text/plain": [
       "{1, 2, 3, 4, 5}"
      ]
     },
     "execution_count": 10,
     "metadata": {},
     "output_type": "execute_result"
    }
   ],
   "source": [
    "numbers = [1, 2, 2, 3, 4, 4, 5]\n",
    "\n",
    "set_numbers = set(numbers)\n",
    "set_numbers"
   ]
  },
  {
   "cell_type": "code",
   "execution_count": 70,
   "id": "ab7469a9-364a-4d5a-9ddc-4ea300ee4bdf",
   "metadata": {},
   "outputs": [
    {
     "data": {
      "text/plain": [
       "set"
      ]
     },
     "execution_count": 70,
     "metadata": {},
     "output_type": "execute_result"
    }
   ],
   "source": [
    "type(set_numbers)"
   ]
  },
  {
   "cell_type": "markdown",
   "id": "31e92679-06bb-49be-b201-aa8f5d75cfcb",
   "metadata": {
    "id": "bea983a3"
   },
   "source": [
    "---\n",
    "\n",
    "### Exercise 19:\n",
    "Convert the string `\"hello\"` into a list of characters.\n",
    "\n",
    "```python\n",
    "# Exercise 19\n",
    "```"
   ]
  },
  {
   "cell_type": "code",
   "execution_count": null,
   "id": "e99d0582-90b7-4210-990c-a08791806202",
   "metadata": {},
   "outputs": [],
   "source": [
    "string = \"hello\"\n",
    "\n",
    "list_of = list(string)"
   ]
  },
  {
   "cell_type": "code",
   "execution_count": 73,
   "id": "5b7e5258-1904-48e0-9a4d-9a0f1f4dd360",
   "metadata": {},
   "outputs": [
    {
     "data": {
      "text/plain": [
       "['h', 'e', 'l', 'l', 'o']"
      ]
     },
     "execution_count": 73,
     "metadata": {},
     "output_type": "execute_result"
    }
   ],
   "source": [
    "list_of"
   ]
  },
  {
   "cell_type": "markdown",
   "id": "a0783f3d-66e3-4528-ace4-2edc767a1357",
   "metadata": {
    "id": "bea983a3"
   },
   "source": [
    "---\n",
    "\n",
    "### Exercise 20:\n",
    "Write a Python function that reverses a tuple `(1, 2, 3, 4)`.\n",
    "\n",
    "```python\n",
    "# Exercise 20\n",
    "```"
   ]
  },
  {
   "cell_type": "code",
   "execution_count": 77,
   "id": "0ecf68c6-1628-42ac-b3ac-b5b894976902",
   "metadata": {},
   "outputs": [
    {
     "ename": "TypeError",
     "evalue": "'tuple' object is not callable",
     "output_type": "error",
     "traceback": [
      "\u001b[1;31m---------------------------------------------------------------------------\u001b[0m",
      "\u001b[1;31mTypeError\u001b[0m                                 Traceback (most recent call last)",
      "Cell \u001b[1;32mIn[77], line 6\u001b[0m\n\u001b[0;32m      3\u001b[0m     \u001b[38;5;28;01mreturn\u001b[39;00m insersed\n\u001b[0;32m      5\u001b[0m inverse_tuple \u001b[38;5;241m=\u001b[39m (\u001b[38;5;241m1\u001b[39m, \u001b[38;5;241m2\u001b[39m, \u001b[38;5;241m3\u001b[39m, \u001b[38;5;241m4\u001b[39m)\n\u001b[1;32m----> 6\u001b[0m inverse_tuple(inverse_tuple)\n",
      "\u001b[1;31mTypeError\u001b[0m: 'tuple' object is not callable"
     ]
    }
   ],
   "source": [
    "def inverse_tuple(to_inverse:tuple):\n",
    "    inversed = to_inverse.reverse()\n",
    "    return insersed\n",
    "    \n",
    "inverse_tuple = (1, 2, 3, 4)\n",
    "inverse_tuple(inverse_tuple)\n"
   ]
  },
  {
   "cell_type": "code",
   "execution_count": 5,
   "id": "f24e1e53-c704-4721-a077-2045936eb680",
   "metadata": {},
   "outputs": [
    {
     "data": {
      "text/plain": [
       "(4, 3, 2, 1)"
      ]
     },
     "execution_count": 5,
     "metadata": {},
     "output_type": "execute_result"
    }
   ],
   "source": [
    "# As we connot modify the element of tuple, to inverse them i'm goinf to convert it in a list, \n",
    "# then i inverse the list, after I'll convert the invered list into a tupple : \n",
    "\n",
    "def inverse_tuple_by_list(my_tuple: tuple):\n",
    "    liste_tempo = list(my_tuple)\n",
    "    liste_tempo.reverse()\n",
    "    inversed_tuple = tuple(liste_tempo)\n",
    "    return inversed_tuple\n",
    "\n",
    "inverse_tuple = (1, 2, 3, 4)\n",
    "inverse_tuple_by_list(inverse_tuple)"
   ]
  },
  {
   "cell_type": "markdown",
   "id": "ebe263fd-58af-4159-b957-ac6edb0a25b6",
   "metadata": {
    "id": "bea983a3"
   },
   "source": [
    "---\n",
    "\n",
    "### Exercise 21:\n",
    "Merge two dictionaries `dict1 = {\"a\": 1, \"b\": 2}` and `dict2 = {\"c\": 3, \"d\": 4}` into a single dictionary.\n",
    "\n",
    "```python\n",
    "# Exercise 21\n",
    "```"
   ]
  },
  {
   "cell_type": "code",
   "execution_count": 1,
   "id": "f450aef7-c990-433b-b578-a688d1ce8806",
   "metadata": {},
   "outputs": [
    {
     "data": {
      "text/plain": [
       "{'a': 1, 'b': 2, 'c': 3, 'd': 4}"
      ]
     },
     "execution_count": 1,
     "metadata": {},
     "output_type": "execute_result"
    }
   ],
   "source": [
    "dict1 = {\"a\": 1, \"b\": 2}\n",
    "dict2 = {\"c\": 3, \"d\": 4}\n",
    "\n",
    "f_dict = dict1 | dict2\n",
    "f_dict"
   ]
  },
  {
   "cell_type": "code",
   "execution_count": 8,
   "id": "3e39e83d-7bb3-4f28-8f52-2acc247a3869",
   "metadata": {},
   "outputs": [
    {
     "data": {
      "text/plain": [
       "{'a': 1, 'b': 2, 'c': 3, 'd': 4}"
      ]
     },
     "execution_count": 8,
     "metadata": {},
     "output_type": "execute_result"
    }
   ],
   "source": [
    "# with update() fucntion\n",
    "dict1 = {\"a\": 1, \"b\": 2}\n",
    "dict2 = {\"c\": 3, \"d\": 4}\n",
    "\n",
    "dic1dic2 = {k:v for d in (dict1,dict2) for k,v in d.items()}\n",
    "dic1dic2\n"
   ]
  },
  {
   "cell_type": "code",
   "execution_count": 9,
   "id": "29d3fd89-15ea-4165-aded-339f8fa20e20",
   "metadata": {},
   "outputs": [
    {
     "data": {
      "text/plain": [
       "{'c': 3, 'd': 4, 'a': 1, 'b': 2}"
      ]
     },
     "execution_count": 9,
     "metadata": {},
     "output_type": "execute_result"
    }
   ],
   "source": [
    "# The ordre of the list in vey important\n",
    "dict1 = {\"a\": 1, \"b\": 2}\n",
    "dict2 = {\"c\": 3, \"d\": 4}\n",
    "\n",
    "f_dict2 = dict2 | dict1\n",
    "f_dict2"
   ]
  },
  {
   "cell_type": "markdown",
   "id": "74db95fc-4da3-4b15-84ff-8cc01e3f1490",
   "metadata": {
    "id": "bea983a3"
   },
   "source": [
    "---\n",
    "\n",
    "### Exercise 22:\n",
    "Create a dictionary where keys are numbers from 1 to 5, and values are their squares.\n",
    "\n",
    "```python\n",
    "# Exercise 22\n",
    "```"
   ]
  },
  {
   "cell_type": "code",
   "execution_count": 19,
   "id": "5e9d8329-7e4e-4c73-9a4c-2ed4906ef04b",
   "metadata": {},
   "outputs": [
    {
     "data": {
      "text/plain": [
       "{1: 1, 2: 4, 3: 9, 4: 16, 5: 25}"
      ]
     },
     "execution_count": 19,
     "metadata": {},
     "output_type": "execute_result"
    }
   ],
   "source": [
    "dict_sq = {k:k**2 for k in range(1,6)}\n",
    "dict_sq"
   ]
  },
  {
   "cell_type": "code",
   "execution_count": 29,
   "id": "e4d2b182-2bfd-4f5a-86f7-cec178f7145c",
   "metadata": {},
   "outputs": [
    {
     "data": {
      "text/plain": [
       "{1: 1, 2: 4, 3: 9, 4: 16, 5: 25}"
      ]
     },
     "execution_count": 29,
     "metadata": {},
     "output_type": "execute_result"
    }
   ],
   "source": [
    "# or by using two existing lists, combining then with zip() function\n",
    "\n",
    "keyss = [k for k in range(1,6)]\n",
    "valuess =[k**2 for k in keyss]         \n",
    "dict_sq2 = {k:v for k, v in zip(keyss,valuess)}\n",
    "dict_sq2"
   ]
  },
  {
   "cell_type": "markdown",
   "id": "006cebea-9041-4bc9-8a10-9c1fd88c0aa1",
   "metadata": {
    "id": "bea983a3"
   },
   "source": [
    "---\n",
    "\n",
    "### Exercise 23:\n",
    "Write a Python program to iterate through a dictionary and print each key-value pair.\n",
    "\n",
    "```python\n",
    "# Exercise 23\n",
    "```"
   ]
  },
  {
   "cell_type": "code",
   "execution_count": 38,
   "id": "87c0978e-4d08-4dca-a76d-566910f2d677",
   "metadata": {},
   "outputs": [
    {
     "name": "stdout",
     "output_type": "stream",
     "text": [
      "Key ==> 1 : Value ==> 1\n",
      "Key ==> 2 : Value ==> 4\n",
      "Key ==> 3 : Value ==> 9\n",
      "Key ==> 4 : Value ==> 16\n",
      "Key ==> 5 : Value ==> 25\n"
     ]
    }
   ],
   "source": [
    "for k,v in dict_sq2.items():\n",
    "    print(f\"Key ==> {k} : Value ==> {v}\")"
   ]
  },
  {
   "cell_type": "markdown",
   "id": "e65208af-4257-4ec6-ba10-b2d8884ccbe9",
   "metadata": {
    "id": "bea983a3"
   },
   "source": [
    "---\n",
    "\n",
    "### Exercise 24:\n",
    "Create a list of the first 5 letters of the alphabet using the `chr()` function.\n",
    "\n",
    "```python\n",
    "# Exercise 24\n",
    "```"
   ]
  },
  {
   "cell_type": "code",
   "execution_count": 45,
   "id": "b21dde90-36ea-4a7c-814b-5cb90798e41d",
   "metadata": {},
   "outputs": [
    {
     "data": {
      "text/plain": [
       "['A', 'B', 'C', 'D', 'E']"
      ]
     },
     "execution_count": 45,
     "metadata": {},
     "output_type": "execute_result"
    }
   ],
   "source": [
    "# using Code ASCII standard from 0 to 127\n",
    "first5_c_letters = [chr(i) for i in range(65,70)] \n",
    "first5_c_lettersc"
   ]
  },
  {
   "cell_type": "code",
   "execution_count": 46,
   "id": "52d76d4a-3e22-4293-908e-ef4a77364aa4",
   "metadata": {},
   "outputs": [
    {
     "data": {
      "text/plain": [
       "['a', 'b', 'c', 'd', 'e']"
      ]
     },
     "execution_count": 46,
     "metadata": {},
     "output_type": "execute_result"
    }
   ],
   "source": [
    "first5_s_letters = [chr(i) for i in range(97,102)] # small letters ; or using .lower() method on the fist\n",
    "first5_s_letters"
   ]
  },
  {
   "cell_type": "markdown",
   "id": "a4ed9524-9b3b-42e8-bbd8-36b9bd43cb6e",
   "metadata": {
    "id": "bea983a3"
   },
   "source": [
    "---\n",
    "\n",
    "### Exercise 25:\n",
    "Use the `zip()` function to combine two lists `[1, 2, 3]` and `[\"a\", \"b\", \"c\"]` into a list of tuples.\n",
    "\n",
    "```python\n",
    "# Exercise 25\n",
    "```"
   ]
  },
  {
   "cell_type": "code",
   "execution_count": 51,
   "id": "2ea1aed4-e416-4dd8-888e-392a12e18e04",
   "metadata": {},
   "outputs": [
    {
     "name": "stdout",
     "output_type": "stream",
     "text": [
      "[(1, 'a'), (2, 'b'), (3, 'c')]\n"
     ]
    }
   ],
   "source": [
    "list1 = [1, 2, 3]\n",
    "list2 = [\"a\", \"b\", \"c\"]\n",
    "\n",
    "combined = list(zip(list1, list2)) # Cfr Execice 22, my 2nd proposition of sollution\n",
    "print(combined)"
   ]
  },
  {
   "cell_type": "markdown",
   "id": "481edf52-1752-4b08-a5c7-87b255963ef8",
   "metadata": {
    "id": "bea983a3"
   },
   "source": [
    "---\n",
    "\n",
    "### Exercise 26:\n",
    "Find the index of the value `50` in the list `[10, 20, 30, 40, 50]`.\n",
    "\n",
    "```python\n",
    "# Exercise 26\n",
    "```"
   ]
  },
  {
   "cell_type": "code",
   "execution_count": 54,
   "id": "5624e63e-030d-450e-94ae-a9e636249a50",
   "metadata": {},
   "outputs": [
    {
     "data": {
      "text/plain": [
       "4"
      ]
     },
     "execution_count": 54,
     "metadata": {},
     "output_type": "execute_result"
    }
   ],
   "source": [
    "ma_liste =[10, 20, 30, 40, 50]\n",
    "ma_liste.index(50)"
   ]
  },
  {
   "cell_type": "code",
   "execution_count": 59,
   "id": "89564966-47ba-491f-a078-86bf6540a4b3",
   "metadata": {},
   "outputs": [
    {
     "data": {
      "text/plain": [
       "4"
      ]
     },
     "execution_count": 59,
     "metadata": {},
     "output_type": "execute_result"
    }
   ],
   "source": [
    "# same for a tuple :\n",
    "ma_tuple =(10, 20, 30, 40, 50)\n",
    "ma_tuple.index(50)"
   ]
  },
  {
   "cell_type": "markdown",
   "id": "b4a48669-6eaf-4fe6-8c0d-efc69b199bb7",
   "metadata": {
    "id": "bea983a3"
   },
   "source": [
    "---\n",
    "\n",
    "### Exercise 27:\n",
    "Sort the list `names = [\"Alice\", \"Bob\", \"Charlie\", \"David\"]` in alphabetical order.\n",
    "\n",
    "```python\n",
    "# Exercise 27\n",
    "```"
   ]
  },
  {
   "cell_type": "code",
   "execution_count": 60,
   "id": "4acbc9fe-eecb-437c-9566-6b3be1dba4b8",
   "metadata": {},
   "outputs": [
    {
     "data": {
      "text/plain": [
       "['Alice', 'Bob', 'Charlie', 'David']"
      ]
     },
     "execution_count": 60,
     "metadata": {},
     "output_type": "execute_result"
    }
   ],
   "source": [
    "names = [\"Alice\", \"Bob\", \"Charlie\", \"David\"]\n",
    "names.sort()\n",
    "names"
   ]
  },
  {
   "cell_type": "code",
   "execution_count": 61,
   "id": "7fda7389-b7a7-4e0f-aac5-3b2f273ba26c",
   "metadata": {},
   "outputs": [
    {
     "data": {
      "text/plain": [
       "['Alice', 'Bob', 'Charlie', 'David']"
      ]
     },
     "execution_count": 61,
     "metadata": {},
     "output_type": "execute_result"
    }
   ],
   "source": [
    "namess = [\"Alice\",\"David\", \"Bob\", \"Charlie\"]\n",
    "\n",
    "sorted_names = sorted(namess)\n",
    "sorted_names\n"
   ]
  },
  {
   "cell_type": "code",
   "execution_count": 65,
   "id": "451f55e2-0dec-4c67-8ac0-8f618b0d5e91",
   "metadata": {},
   "outputs": [
    {
     "name": "stdout",
     "output_type": "stream",
     "text": [
      "['Alice', 'David', 'Bob', 'Charlie']\n",
      "===\n"
     ]
    },
    {
     "data": {
      "text/plain": [
       "['Alice', 'Bob', 'Charlie', 'David']"
      ]
     },
     "execution_count": 65,
     "metadata": {},
     "output_type": "execute_result"
    }
   ],
   "source": [
    "names1 = [\"Alice\",\"David\", \"Bob\", \"Charlie\"]\n",
    "\n",
    "print(names1)\n",
    "print(\"===\")\n",
    "sorted(names1)     "
   ]
  },
  {
   "cell_type": "markdown",
   "id": "2e79fe93-38e2-4649-a8ce-5ae719369f67",
   "metadata": {
    "id": "bea983a3"
   },
   "source": [
    "---\n",
    "\n",
    "### Exercise 28:\n",
    "Write a Python function that takes a list of integers as input and returns the largest number.\n",
    "\n",
    "```python\n",
    "# Exercise 28\n",
    "```"
   ]
  },
  {
   "cell_type": "code",
   "execution_count": 68,
   "id": "a9af873f-67e2-493d-95ad-de1217c85f7f",
   "metadata": {},
   "outputs": [
    {
     "data": {
      "text/plain": [
       "50"
      ]
     },
     "execution_count": 68,
     "metadata": {},
     "output_type": "execute_result"
    }
   ],
   "source": [
    "#with max() function : very short\n",
    "\n",
    "def largest_int(my_int_list:list)-> int:\n",
    "    return (max(my_int_list))\n",
    "\n",
    "ma_liste =[10, 20, 30, 40, 50]\n",
    "largest_int(ma_liste) # cfr list from Exercice 26"
   ]
  },
  {
   "cell_type": "code",
   "execution_count": 71,
   "id": "8c24e946-7a1f-4472-b6f4-8afcb8b4dcdf",
   "metadata": {},
   "outputs": [
    {
     "data": {
      "text/plain": [
       "9"
      ]
     },
     "execution_count": 71,
     "metadata": {},
     "output_type": "execute_result"
    }
   ],
   "source": [
    "# with loop for : a bit long\n",
    "\n",
    "def largest_int2(my_int_list:list)-> int:\n",
    "    largest_int = 0\n",
    "    for i in my_int_list :\n",
    "        if i > largest_int :\n",
    "            largest_int = i        \n",
    "    return largest_int\n",
    "\n",
    "largest_int2([8,5,7,9,1,7,3])"
   ]
  },
  {
   "cell_type": "markdown",
   "id": "b8fda9fa-59c7-4f79-b806-6b82d737df5b",
   "metadata": {
    "id": "bea983a3"
   },
   "source": [
    "---\n",
    "\n",
    "### Exercise 29:\n",
    "Use the `count()` method to count how many times `\"apple\"` appears in the list `fruits = [\"apple\", \"banana\", \"apple\", \"orange\"]`.\n",
    "\n",
    "```python\n",
    "# Exercise 29\n",
    "```"
   ]
  },
  {
   "cell_type": "code",
   "execution_count": 72,
   "id": "cbe84c9d-fea0-43bc-88c9-ff5a3d3b2ff8",
   "metadata": {},
   "outputs": [
    {
     "data": {
      "text/plain": [
       "2"
      ]
     },
     "execution_count": 72,
     "metadata": {},
     "output_type": "execute_result"
    }
   ],
   "source": [
    "fruits = [\"apple\", \"banana\", \"apple\", \"orange\"]\n",
    "fruits.count(\"apple\")"
   ]
  },
  {
   "cell_type": "code",
   "execution_count": 74,
   "id": "d43aaf13-1d80-4fc3-8df5-6f80444cb4f1",
   "metadata": {},
   "outputs": [
    {
     "name": "stdout",
     "output_type": "stream",
     "text": [
      "2\n"
     ]
    }
   ],
   "source": [
    "# using for loop:\n",
    "n = 0\n",
    "for fruit in fruits :\n",
    "    if fruit == \"apple\":\n",
    "        n +=1\n",
    "print(n)        \n",
    "    "
   ]
  },
  {
   "cell_type": "markdown",
   "id": "bbde26ac-7051-4cda-a890-b2d4ae1cd509",
   "metadata": {
    "id": "bea983a3"
   },
   "source": [
    "---\n",
    "\n",
    "### Exercise 30:\n",
    "Create a dictionary `person` where keys are `\"name\"`, `\"age\"`, and `\"city\"`, and values are `\"Alice\"`, `25`, and `\"New York\"` respectively. Then access the value of the `\"city\"` key.\n",
    "\n",
    "```python\n",
    "# Exercise 30\n",
    "```"
   ]
  },
  {
   "cell_type": "code",
   "execution_count": 77,
   "id": "60ac485d-ceb3-45b2-bdd0-ff3aefe26746",
   "metadata": {},
   "outputs": [
    {
     "data": {
      "text/plain": [
       "'New York'"
      ]
     },
     "execution_count": 77,
     "metadata": {},
     "output_type": "execute_result"
    }
   ],
   "source": [
    "person = {\"name\":\"alice\", \"age\":25,\"city\":\"New York\"}\n",
    "\n",
    "person[\"city\"]"
   ]
  },
  {
   "cell_type": "markdown",
   "id": "183e4e80-3c88-4a73-99b3-306ec4e784f4",
   "metadata": {
    "id": "bea983a3"
   },
   "source": [
    "---\n",
    "\n",
    "### Exercise 31:\n",
    "Write a Python function that takes a list as input and returns a new list with all duplicates removed.\n",
    "\n",
    "```python\n",
    "# Exercise 31\n",
    "```"
   ]
  },
  {
   "cell_type": "code",
   "execution_count": 78,
   "id": "8515a1d0-86a5-4b29-8178-0d9081d32285",
   "metadata": {},
   "outputs": [
    {
     "data": {
      "text/plain": [
       "[1, 2, 4, 5, 7, 8, 9]"
      ]
     },
     "execution_count": 78,
     "metadata": {},
     "output_type": "execute_result"
    }
   ],
   "source": [
    "# using a set (unique element) : Attention : his will change ordre of elements because the set will be sorted\n",
    "def remouve_list_dupli(my_list:list)->list:\n",
    "    uniq_list = set(my_list) # convert the list in tos a set\n",
    "    return list(uniq_list) # reconvesrion of set in to list\n",
    "\n",
    "remouve_list_dupli([1,1,2,5,8,7,9,7,9,1,5,2,4]) "
   ]
  },
  {
   "cell_type": "code",
   "execution_count": 85,
   "id": "0f66c219-3316-4788-b1fc-bf8fb030620d",
   "metadata": {},
   "outputs": [
    {
     "data": {
      "text/plain": [
       "[1, 2, 5, 8, 7, 9, 4]"
      ]
     },
     "execution_count": 85,
     "metadata": {},
     "output_type": "execute_result"
    }
   ],
   "source": [
    "# susing a for loop\n",
    "def remouve_list_dupli2(my_list2:list)->list:\n",
    "    uniq_list2 = []\n",
    "    for elem in my_list2:\n",
    "        if elem not in uniq_list2:\n",
    "            #uniq = my_list2.pop(elem)\n",
    "            uniq_list2.append(elem)\n",
    "    return uniq_list2        \n",
    "    \n",
    "remouve_list_dupli2([1,1,2,5,8,7,9,7,9,1,5,2,4]) # the unique element list in their order of apparution"
   ]
  },
  {
   "cell_type": "code",
   "execution_count": 84,
   "id": "32ab3a32-d92f-4a59-a540-a72b8a53b9f7",
   "metadata": {},
   "outputs": [
    {
     "name": "stdout",
     "output_type": "stream",
     "text": [
      "[1, 2, 5, 8, 7, 9, 4]\n"
     ]
    }
   ],
   "source": [
    "def remouve_list_dupli2(my_list2):\n",
    "    uniq_list2 = []  # Initialiser la liste pour les éléments uniques\n",
    "    for elem in my_list2:\n",
    "        if elem not in uniq_list2:  # Vérifie si l'élément n'est pas déjà dans uniq_list2\n",
    "            uniq_list2.append(elem)  # Ajoute l'élément unique à uniq_list2\n",
    "    return uniq_list2\n",
    "\n",
    "# Appel de la fonction\n",
    "result = remouve_list_dupli2([1, 1, 2, 5, 8, 7, 9, 7, 9, 1, 5, 2, 4])\n",
    "print(result)  # Affiche : [1, 2, 5, 8, 7, 9, 4]"
   ]
  },
  {
   "cell_type": "markdown",
   "id": "83d55001-0107-4f4c-9ef2-5c5eaca1ca99",
   "metadata": {
    "id": "bea983a3"
   },
   "source": [
    "---\n",
    "\n",
    "### Exercise 32:\n",
    "Write a Python function that takes two lists and returns their intersection.\n",
    "\n",
    "```python\n",
    "# Exercise 32\n",
    "```"
   ]
  },
  {
   "cell_type": "code",
   "execution_count": 90,
   "id": "4bd55dd2-53ff-4bec-b430-fc9c3d1b5287",
   "metadata": {},
   "outputs": [
    {
     "data": {
      "text/plain": [
       "[1, 2, 5, 6, 8]"
      ]
     },
     "execution_count": 90,
     "metadata": {},
     "output_type": "execute_result"
    }
   ],
   "source": [
    "# Avec deux doucles for imbriquées et deux tests if imbiqués\n",
    "def intersec_list(list1:list, list2:list)->list:\n",
    "    intersection_elem =[]\n",
    "    for i in list1:\n",
    "        for j in list2:\n",
    "            if i==j:\n",
    "                if j not in intersection_elem:\n",
    "                    intersection_elem.append(j)\n",
    "    return intersection_elem\n",
    "\n",
    "intersec_list([1,2,3,4,5,6,7,8,9],[1,0,2,6,5,8,10])              "
   ]
  },
  {
   "cell_type": "code",
   "execution_count": 93,
   "id": "5167a0cf-6fc9-4f64-8de6-120a38b398b3",
   "metadata": {},
   "outputs": [
    {
     "data": {
      "text/plain": [
       "[1, 2, 5, 6, 8]"
      ]
     },
     "execution_count": 93,
     "metadata": {},
     "output_type": "execute_result"
    }
   ],
   "source": [
    "# with a list comprehension :\n",
    "def intersec_list2(list1, list2):\n",
    "    intersection_elem2 = []\n",
    "    for item in list1:\n",
    "        if item in list2:  # This checks the entire list2\n",
    "            intersection_elem.append(item)\n",
    "    return intersection_elem2\n",
    "intersect_lists([1,2,3,4,5,6,7,8,9],[1,0,2,6,5,8,10]) \n"
   ]
  },
  {
   "cell_type": "markdown",
   "id": "489143dd-4627-4386-8142-762f71d04c6d",
   "metadata": {
    "id": "bea983a3"
   },
   "source": [
    "---\n",
    "\n",
    "### Exercise 33:\n",
    "Create a generator that yields the squares of numbers from 1 to 10.\n",
    "\n",
    "```python\n",
    "# Exercise 33\n",
    "```"
   ]
  },
  {
   "cell_type": "code",
   "execution_count": 99,
   "id": "e80902e5-36a9-40d1-adf8-a1205c2617e2",
   "metadata": {},
   "outputs": [
    {
     "name": "stdout",
     "output_type": "stream",
     "text": [
      "1\n",
      "4\n",
      "9\n",
      "16\n",
      "25\n",
      "36\n",
      "49\n",
      "64\n",
      "81\n",
      "100\n"
     ]
    }
   ],
   "source": [
    "def squares():\n",
    "    for i in range(1,11):\n",
    "        yield i**2\n",
    "\n",
    "for square in squares():\n",
    "    print(square)\n",
    "    "
   ]
  },
  {
   "cell_type": "markdown",
   "id": "d798f6f2-eaff-4df4-abb3-517bdf5e363c",
   "metadata": {
    "id": "bea983a3"
   },
   "source": [
    "---\n",
    "\n",
    "### Exercise 34:\n",
    "Write a Python function that takes a dictionary as input and returns the sum of all its values.\n",
    "\n",
    "```python\n",
    "# Exercise 34\n",
    "```"
   ]
  },
  {
   "cell_type": "code",
   "execution_count": 102,
   "id": "dde1056a-9e75-4393-9d10-e3f9b2c78fb5",
   "metadata": {},
   "outputs": [
    {
     "data": {
      "text/plain": [
       "6"
      ]
     },
     "execution_count": 102,
     "metadata": {},
     "output_type": "execute_result"
    }
   ],
   "source": [
    "# \n",
    "def sum_of_elem_dict(my_dict:dict):\n",
    "    somm = sum(v for v in my_dict.values())\n",
    "    return somm\n",
    "    \n",
    "sum_of_elem_dict({1:2,3:4})        "
   ]
  },
  {
   "cell_type": "code",
   "execution_count": 103,
   "id": "3cbdd7ca-af3c-4bd9-b42e-a5ee7e90c209",
   "metadata": {},
   "outputs": [
    {
     "data": {
      "text/plain": [
       "6"
      ]
     },
     "execution_count": 103,
     "metadata": {},
     "output_type": "execute_result"
    }
   ],
   "source": [
    "# or simply this \n",
    "\n",
    "def sum_of_elem_dict(my_dict:dict):\n",
    "    somme = sum(my_dict.values())\n",
    "    return somme\n",
    "    \n",
    "sum_of_elem_dict({1:2,3:4}) "
   ]
  },
  {
   "cell_type": "markdown",
   "id": "b4e198cf-c7e2-487b-b4c0-06e680a99ecc",
   "metadata": {
    "id": "bea983a3"
   },
   "source": [
    "---\n",
    "\n",
    "### Exercise 35:\n",
    "Use the `sorted()` function to sort the list `[3, 1, 4, 1, 5, 9]` in ascending order.\n",
    "\n",
    "```python\n",
    "# Exercise 35\n",
    "```"
   ]
  },
  {
   "cell_type": "code",
   "execution_count": 104,
   "id": "f0145c9d-b246-41a6-bbb9-f81c0aa1dc70",
   "metadata": {},
   "outputs": [
    {
     "data": {
      "text/plain": [
       "[1, 1, 3, 4, 5, 9]"
      ]
     },
     "execution_count": 104,
     "metadata": {},
     "output_type": "execute_result"
    }
   ],
   "source": [
    "# ascending order is default\n",
    "my_list = [3, 1, 4, 1, 5, 9]\n",
    "sorted(my_list) \n",
    "\n",
    "# for descending ordre, we have to add a prameter : sorted(my_list, reverse =True) \n",
    "# idem for sort() method like this : my_listort(reverse =True)"
   ]
  },
  {
   "cell_type": "markdown",
   "id": "2bafdf13-cffb-40fd-8310-0ca4de37bc4d",
   "metadata": {
    "id": "bea983a3"
   },
   "source": [
    "---\n",
    "\n",
    "### Exercise 36:\n",
    "Write a Python function that takes a list of strings as input and returns the longest string.\n",
    "\n",
    "```python\n",
    "# Exercise 36\n",
    "```"
   ]
  },
  {
   "cell_type": "code",
   "execution_count": 106,
   "id": "fa37c116-4fc9-4b1e-ae67-9b36818838a3",
   "metadata": {},
   "outputs": [
    {
     "data": {
      "text/plain": [
       "'bien'"
      ]
     },
     "execution_count": 106,
     "metadata": {},
     "output_type": "execute_result"
    }
   ],
   "source": [
    "def logest_str(my_str_list:list)-> str:\n",
    "    if not strings: \n",
    "        return None\n",
    "        \n",
    "    n=0\n",
    "    for string in my_str_list:\n",
    "        if len(string)>n:\n",
    "            n=len(string)\n",
    "    return string\n",
    "\n",
    "logest_str([\"je\",\"vais\",\"bien\"])    \n",
    "        "
   ]
  },
  {
   "cell_type": "markdown",
   "id": "c8202d4a-6aac-41aa-8da3-808ca0551f5e",
   "metadata": {
    "id": "bea983a3"
   },
   "source": [
    "---\n",
    "\n",
    "### Exercise 37:\n",
    "Check if all the elements in the list `[1, 2, 3, 4, 5]` are greater than 0 using the `all()` function.\n",
    "\n",
    "```python\n",
    "# Exercise 37\n",
    "```"
   ]
  },
  {
   "cell_type": "code",
   "execution_count": 107,
   "id": "0bb07c4c-7ecd-4aee-bbd0-20f2163b4888",
   "metadata": {},
   "outputs": [
    {
     "name": "stdout",
     "output_type": "stream",
     "text": [
      "All element are greater than 0\n"
     ]
    }
   ],
   "source": [
    "m_list =  [1, 2, 3, 4, 5]\n",
    "\n",
    "if all(m_list) >0:\n",
    "    print(\"All element are greater than 0\")\n",
    "else:\n",
    "    print(\"Ther might at least one element less or equal to 0\")"
   ]
  },
  {
   "cell_type": "code",
   "execution_count": 108,
   "id": "46a42afc-fcfb-43bb-be56-e0882a640e2d",
   "metadata": {},
   "outputs": [
    {
     "name": "stdout",
     "output_type": "stream",
     "text": [
      "True\n"
     ]
    }
   ],
   "source": [
    "my_lis = [1, 2, 3, 4, 5]\n",
    "greater_than_zero = all(n > 0 for n in my_lis)\n",
    "print(greater_than_zero)  # Output: True"
   ]
  },
  {
   "cell_type": "markdown",
   "id": "65c0d320-b3e6-4808-ada1-c00ea863b88e",
   "metadata": {
    "id": "bea983a3"
   },
   "source": [
    "---\n",
    "\n",
    "### Exercise 38:\n",
    "Create a list of tuples where each tuple contains a number and its square for numbers from 1 to 5.\n",
    "\n",
    "```python\n",
    "# Exercise 38\n",
    "```"
   ]
  },
  {
   "cell_type": "code",
   "execution_count": 113,
   "id": "af1dcf52-fb8f-4e4d-ab01-3b03fda30de4",
   "metadata": {},
   "outputs": [
    {
     "data": {
      "text/plain": [
       "((1, 1), (2, 4), (3, 9), (4, 16), (5, 25))"
      ]
     },
     "execution_count": 113,
     "metadata": {},
     "output_type": "execute_result"
    }
   ],
   "source": [
    "my_tuple = tuple((i,i**2) for i in range(1,6))\n",
    "my_tuple"
   ]
  },
  {
   "cell_type": "markdown",
   "id": "abe1ba03-7780-48c3-914a-5a72ae212971",
   "metadata": {
    "id": "bea983a3"
   },
   "source": [
    "---\n",
    "\n",
    "### Exercise 39:\n",
    "Write a Python function that takes a list of tuples and returns a list of the second elements from each tuple.\n",
    "\n",
    "```python\n",
    "# Exercise 39\n",
    "```"
   ]
  },
  {
   "cell_type": "code",
   "execution_count": 114,
   "id": "2e0346c5-01d2-4a16-88fd-2e06f70b6dc6",
   "metadata": {},
   "outputs": [
    {
     "data": {
      "text/plain": [
       "[1, 4, 9, 16, 25]"
      ]
     },
     "execution_count": 114,
     "metadata": {},
     "output_type": "execute_result"
    }
   ],
   "source": [
    "def second_elem(list_of_tuple):\n",
    "    return [tupl[1] for tupl in list_of_tuple] # t[0] étant le 1er élément\n",
    "    \n",
    "second_elem(my_tuple) # for the previews listen it will give the squares"
   ]
  },
  {
   "cell_type": "markdown",
   "id": "129025dd-1b79-4698-915e-258a570ba0af",
   "metadata": {
    "id": "bea983a3"
   },
   "source": [
    "---\n",
    "\n",
    "### Exercise 40:\n",
    "Write a Python function that flattens a list of lists into a single list.\n",
    "\n",
    "```python\n",
    "# Exercise 40\n",
    "```"
   ]
  },
  {
   "cell_type": "code",
   "execution_count": 117,
   "id": "88ccc59e-c985-4421-a574-8f2e6af00575",
   "metadata": {},
   "outputs": [
    {
     "name": "stdout",
     "output_type": "stream",
     "text": [
      "['a', 'b', 'c', 'd', 'e', 'f', 'g', 'h', 'i', 'j', 'k', 'l', 'm', 'n', 1, 2, 3, 4, 5, 6]\n"
     ]
    }
   ],
   "source": [
    "# Esier with list comprehensiion than normal nestd for loops : very short code\n",
    "def single_list(list_of_list : list) ->list:\n",
    "    return [element for short_list in list_of_list for element in short_list] # list comprehension using 2 nested  for loops\n",
    "\n",
    "# Example usage\n",
    "list_of_list = [[\"a\", \"b\", \"c\"], [\"d\", \"e\",\"f\", \"g\"], [\"h\", \"i\", \"j\", \"k\", \"l\", \"m\", \"n\"], [1,2,3,4,5,6]]\n",
    "single = single_list(list_of_list)\n",
    "\n",
    "print(single)  # Output: [1, 2, 3, 4, 5, 6, 7, 8]"
   ]
  },
  {
   "cell_type": "code",
   "execution_count": null,
   "id": "05e1145c-d100-45ce-954e-8637bc1a34f0",
   "metadata": {},
   "outputs": [],
   "source": [
    "# Using two nested for loops without list comprehension : TO BE DONE after submission as a free exercise !!\n"
   ]
  },
  {
   "cell_type": "markdown",
   "id": "9d3c6cf9-5177-4062-87f4-caacf84454e0",
   "metadata": {
    "id": "bea983a3"
   },
   "source": [
    "---\n",
    "\n",
    "### Exercise 41:\n",
    "Use the `enumerate()` function to iterate through the list `[\"apple\", \"banana\", \"cherry\"]` and print the index and value.\n",
    "\n",
    "```python\n",
    "# Exercise 41\n",
    "```"
   ]
  },
  {
   "cell_type": "code",
   "execution_count": 123,
   "id": "f553cf3b-093d-4bda-b46a-62f8adc92f23",
   "metadata": {},
   "outputs": [
    {
     "name": "stdout",
     "output_type": "stream",
     "text": [
      "1 apple\n",
      "2 banana\n",
      "3 cherry\n"
     ]
    }
   ],
   "source": [
    "fruit_list =[\"apple\", \"banana\", \"cherry\"]\n",
    "\n",
    "#enumerate () tres important si on veux avoir les élements et leurs index\n",
    "\n",
    "for i, valeur in enumerate(fruit_list, start=1): # start est pardéfaut à 0, si rien n'est indiqué. ex : for i, valeur in enumerate(fruit_list)\n",
    "    print(i,valeur)"
   ]
  },
  {
   "cell_type": "markdown",
   "id": "5ccf95eb-7a72-43cb-aa29-04222fccb31a",
   "metadata": {
    "id": "bea983a3"
   },
   "source": [
    "---\n",
    "\n",
    "### Exercise 42:\n",
    "Write a Python program that checks if a tuple is empty.\n",
    "\n",
    "```python\n",
    "# Exercise 42\n",
    "```"
   ]
  },
  {
   "cell_type": "code",
   "execution_count": 129,
   "id": "c1c03527-5a63-41ef-83d9-ab3b414d30a7",
   "metadata": {},
   "outputs": [
    {
     "data": {
      "text/plain": [
       "False"
      ]
     },
     "execution_count": 129,
     "metadata": {},
     "output_type": "execute_result"
    }
   ],
   "source": [
    "def is_empty(my_tuple :tuple):\n",
    "    return len(my_tuple) == 0  # if the length of the tuple is 0\n",
    "is_empty((1,2))"
   ]
  },
  {
   "cell_type": "code",
   "execution_count": 128,
   "id": "919daf9a-02d5-496f-a4c2-043e8b587106",
   "metadata": {},
   "outputs": [
    {
     "data": {
      "text/plain": [
       "True"
      ]
     },
     "execution_count": 128,
     "metadata": {},
     "output_type": "execute_result"
    }
   ],
   "source": [
    "# using test if\n",
    "def is_empty(my_tuple :tuple):\n",
    "        if len(my_tuple) ==0: #if the length of the tuple is 0\n",
    "            return True \n",
    "        else:\n",
    "            return False\n",
    "is_empty(())"
   ]
  },
  {
   "cell_type": "markdown",
   "id": "5bb0674d-9afb-440f-b354-9abf1fe08fd2",
   "metadata": {
    "id": "bea983a3"
   },
   "source": [
    "---\n",
    "\n",
    "### Exercise 43:\n",
    "Create a list of even numbers between 1 and 20 using the `range()` function.\n",
    "\n",
    "```python\n",
    "# Exercise 43\n",
    "```"
   ]
  },
  {
   "cell_type": "code",
   "execution_count": 135,
   "id": "8e023f02-cd10-4585-9268-d8c5c7eaa73e",
   "metadata": {},
   "outputs": [
    {
     "data": {
      "text/plain": [
       "[2, 4, 6, 8, 10, 12, 14, 16, 18, 20]"
      ]
     },
     "execution_count": 135,
     "metadata": {},
     "output_type": "execute_result"
    }
   ],
   "source": [
    "elem = [i+1 for i in range(1,21,2)] # je mets +1 comme je commence à 1 alors que je veux avoir les chiffres pairs\n",
    "elem"
   ]
  },
  {
   "cell_type": "code",
   "execution_count": null,
   "id": "17f0e116-e92f-40ab-a468-0f32235ad874",
   "metadata": {},
   "outputs": [],
   "source": [
    "elem = [i for i in range(2,21,2)] # même refléxion, mais là je commence directement à 2 commenje ne veux que les pairs\n",
    "elem"
   ]
  },
  {
   "cell_type": "markdown",
   "id": "a63049eb-1422-48c2-bb53-67898b7bffca",
   "metadata": {
    "id": "bea983a3"
   },
   "source": [
    "---\n",
    "\n",
    "### Exercise 44:\n",
    "Write a Python function that takes a list of numbers as input and returns the list in reverse order.\n",
    "\n",
    "```python\n",
    "# Exercise 44\n",
    "```"
   ]
  },
  {
   "cell_type": "code",
   "execution_count": 136,
   "id": "e0650a70-71cd-4645-93e8-1698ee612b11",
   "metadata": {},
   "outputs": [
    {
     "data": {
      "text/plain": [
       "[5, 4, 3, 2, 1, 0]"
      ]
     },
     "execution_count": 136,
     "metadata": {},
     "output_type": "execute_result"
    }
   ],
   "source": [
    "def liste_inversee(ma_liste : list)-> list:\n",
    "    return ma_liste[::-1]\n",
    "liste_inversee([0,1,2,3,4,5])   "
   ]
  },
  {
   "cell_type": "markdown",
   "id": "53d03df3-5946-42a3-8123-6fcacd4b6f81",
   "metadata": {
    "id": "bea983a3"
   },
   "source": [
    "---\n",
    "\n",
    "### Exercise 45:\n",
    "Create a dictionary comprehension that maps numbers from 1 to 5 to their cubes.\n",
    "\n",
    "```python\n",
    "# Exercise 45\n",
    "```"
   ]
  },
  {
   "cell_type": "code",
   "execution_count": 137,
   "id": "366a6442-03e3-4007-8855-0245276ae603",
   "metadata": {},
   "outputs": [
    {
     "data": {
      "text/plain": [
       "{1: 1, 2: 8, 3: 27, 4: 64, 5: 125}"
      ]
     },
     "execution_count": 137,
     "metadata": {},
     "output_type": "execute_result"
    }
   ],
   "source": [
    "def dict_cube()->dict:\n",
    "    return {i:i**3 for i in range(1,6)}\n",
    "\n",
    "dict_cube()"
   ]
  },
  {
   "cell_type": "markdown",
   "id": "a2726028-55da-4497-a5e5-48ddaaefc299",
   "metadata": {
    "id": "bea983a3"
   },
   "source": [
    "---\n",
    "\n",
    "### Exercise 46:\n",
    "Write a Python program that creates a new list containing only the unique elements of the list `[1, 2, 2, 3, 4, 4, 5]`.\n",
    "\n",
    "```python\n",
    "# Exercise 46\n",
    "```"
   ]
  },
  {
   "cell_type": "code",
   "execution_count": 4,
   "id": "e4cd9487-77ad-4315-a360-af0095bcacfe",
   "metadata": {},
   "outputs": [
    {
     "name": "stdout",
     "output_type": "stream",
     "text": [
      "[1, 2, 3, 4, 5]\n"
     ]
    }
   ],
   "source": [
    "mylist= [1, 2, 2, 3, 4, 4, 5]\n",
    "malist_of_unique = list(set(mylist))\n",
    "print(malist_of_unique)"
   ]
  },
  {
   "cell_type": "code",
   "execution_count": 5,
   "id": "459cbd6b-3f72-4594-a614-baa7024e10a4",
   "metadata": {},
   "outputs": [
    {
     "name": "stdout",
     "output_type": "stream",
     "text": [
      "[1, 2, 3, 4, 5]\n"
     ]
    }
   ],
   "source": [
    "#using a fucntion with the for loop, but quite long\n",
    "def list_of_uniq(my_list):\n",
    "    test_uniq = []\n",
    "    for elem in my_list:\n",
    "        if elem not in test_uniq:\n",
    "            test_uniq.append(elem)\n",
    "    return test_uniq\n",
    "\n",
    "# appel de la focntion\n",
    "mylist = [1, 2, 2, 3, 4, 4, 5]\n",
    "unique_list = list_of_uniq(mylist)\n",
    "\n",
    "print(unique_list)"
   ]
  },
  {
   "cell_type": "markdown",
   "id": "4d9e7918-c9b6-4098-adae-e8a2e2566186",
   "metadata": {
    "id": "bea983a3"
   },
   "source": [
    "---\n",
    "\n",
    "### Exercise 47:\n",
    "Write a Python function that takes a list of dictionaries and returns a list of the values for a given key.\n",
    "\n",
    "```python\n",
    "# Exercise 47\n",
    "```"
   ]
  },
  {
   "cell_type": "code",
   "execution_count": 17,
   "id": "037e9ef5-5ee7-4558-9efc-bd8e42b54291",
   "metadata": {},
   "outputs": [
    {
     "data": {
      "text/plain": [
       "[35, 28, 30]"
      ]
     },
     "execution_count": 17,
     "metadata": {},
     "output_type": "execute_result"
    }
   ],
   "source": [
    "# similar idea as Exercice 40, but almost diffrent\n",
    "def list_of_age_values(list_of_dicts):\n",
    "    return [dic.get('age') for dic in list_of_dicts if 'age' in dic] # pour l'age par exemple\n",
    "    \n",
    "list_of_dicts = [\n",
    "    {'name': 'Christian', 'age': 35},\n",
    "    {'name': 'Rosly', 'age': 28},\n",
    "    {'name': 'Luc', 'age': 30}\n",
    " ] \n",
    "\n",
    "list_of_age_values(list_of_dicts)"
   ]
  },
  {
   "cell_type": "code",
   "execution_count": 15,
   "id": "402baf2a-a2f7-40f6-ad51-103a1aa1b178",
   "metadata": {},
   "outputs": [
    {
     "data": {
      "text/plain": [
       "[35, 28, 30]"
      ]
     },
     "execution_count": 15,
     "metadata": {},
     "output_type": "execute_result"
    }
   ],
   "source": [
    "# ce code est plus facile, en ajoutant la clé à recherchée dans les arguments\n",
    "\n",
    "def list_of_key_values(list_of_dict, key) :\n",
    "    return [dic.get(key) for dic in list_of_dict if key in dic]\n",
    "\n",
    "list_of_dicts = [\n",
    "    {'name': 'Christian', 'age': 35},\n",
    "    {'name': 'Rosly', 'age': 28},\n",
    "    {'name': 'Luc', 'age': 30}\n",
    " ]\n",
    "\n",
    "list_of_key_values(list_of_dicts, \"age\")"
   ]
  },
  {
   "cell_type": "markdown",
   "id": "2778c456-3f3f-4830-a63f-0e114d62bdb9",
   "metadata": {
    "id": "bea983a3"
   },
   "source": [
    "---\n",
    "\n",
    "### Exercise 48:\n",
    "Write a Python function that uses a generator to yield the Fibonacci sequence up to `n` terms.\n",
    "\n",
    "```python\n",
    "# Exercise 48\n",
    "```"
   ]
  },
  {
   "cell_type": "code",
   "execution_count": 28,
   "id": "db17baad-11de-4d0a-894e-4f96aff663e9",
   "metadata": {},
   "outputs": [
    {
     "name": "stdout",
     "output_type": "stream",
     "text": [
      "[0, 1, 1, 2, 3, 5, 8]\n"
     ]
    }
   ],
   "source": [
    "def fibonacci_sequence(n):\n",
    "    a =0\n",
    "    b =1 # initialisation pour 0 =0, pour 1= 1; pour la suite pour 2 = fibonnacci ne 1 + fibonnaci de 0 (fibo des deux termes précédent)\n",
    "    \n",
    "    for i in range(n):\n",
    "        yield a  # Yield the current value\n",
    "        a, b = b, a + b\n",
    "\n",
    "# Example usage\n",
    "termes =7\n",
    "fibonacci = fibonacci_sequence(termes)\n",
    "\n",
    "print(list(fibonacci)) "
   ]
  },
  {
   "cell_type": "markdown",
   "id": "d445c6c4-be5f-4eb1-90c9-afaa7c4a06f2",
   "metadata": {
    "id": "bea983a3"
   },
   "source": [
    "---\n",
    "\n",
    "### Exercise 49:\n",
    "Write a Python function that takes a string and returns a list of all unique characters in the string.\n",
    "\n",
    "```python\n",
    "# Exercise 49\n",
    "```"
   ]
  },
  {
   "cell_type": "code",
   "execution_count": 31,
   "id": "7fe37dc1-0716-4ef5-9ec0-0ad4faf7cab9",
   "metadata": {},
   "outputs": [
    {
     "name": "stdout",
     "output_type": "stream",
     "text": [
      "['S', 'e', 'n', 'g', 'a', 'l']\n"
     ]
    }
   ],
   "source": [
    "def unique_list_char(my_string):\n",
    "    unique_chars= []\n",
    "    seen_char = []\n",
    "    for char in my_string :\n",
    "        if char not in seen_char :\n",
    "            unique_chars.append(char)\n",
    "            seen_char.append(char)\n",
    "    return list(unique_chars)\n",
    "\n",
    "my_string = \"Senegal\"\n",
    "unique_chars_l = unique_list_char(my_string)\n",
    "\n",
    "print(unique_chars_l)"
   ]
  },
  {
   "cell_type": "markdown",
   "id": "d0525b73-763e-450e-be55-39f8759ef2ee",
   "metadata": {
    "id": "bea983a3"
   },
   "source": [
    "---\n",
    "\n",
    "### Exercise 50:\n",
    "Write a Python function that merges two sorted lists into a single sorted list.\n",
    "\n",
    "```python\n",
    "# Exercise 50\n",
    "```"
   ]
  },
  {
   "cell_type": "code",
   "execution_count": 33,
   "id": "0eca1913-76b6-4266-8302-db9b875c0b5c",
   "metadata": {},
   "outputs": [
    {
     "name": "stdout",
     "output_type": "stream",
     "text": [
      "[1, 2, 3, 4, 5, 6, 7, 8]\n"
     ]
    }
   ],
   "source": [
    "# façon plus facile de le fusionner deux itérables ordonnés\n",
    "import heapq\n",
    "\n",
    "def sorted_lists(list1, list2):\n",
    "    return list(heapq.merge(list1, list2)) # ne marche que pour les données de même type, pas une liste de int et string\n",
    "\n",
    "merged = sorted_lists([1,2,3,4],[5,6,7,8])\n",
    "print(merged)"
   ]
  },
  {
   "cell_type": "markdown",
   "id": "87529ba0-5efc-4b91-9c73-936936d658b5",
   "metadata": {
    "id": "bea983a3"
   },
   "source": [
    "---\n",
    "\n",
    "### Exercise 51:\n",
    "Use the\n",
    "\n",
    " `filter()` function to filter out odd numbers from the list `[1, 2, 3, 4, 5, 6]`.\n",
    "\n",
    "```python\n",
    "# Exercise 51\n",
    "```"
   ]
  },
  {
   "cell_type": "code",
   "execution_count": 39,
   "id": "c9a0efef-be1c-48be-88e0-7e6f0411ab6b",
   "metadata": {},
   "outputs": [
    {
     "name": "stdout",
     "output_type": "stream",
     "text": [
      "[2, 4, 6]\n"
     ]
    }
   ],
   "source": [
    "def filter_out_odd_number(my_list):\n",
    "    out_odd_number = list(filter(lambda x: x % 2 == 0, my_list)) # Having even number, odd nomber are out !\n",
    "                                                                 # If I want to have odd number I change the odition : lambda x: x % 2 != 0\n",
    "    return out_odd_number\n",
    "\n",
    "mylist = [1, 2, 3, 4, 5, 6]\n",
    "print(filter_out_odd_number(mylist))\n"
   ]
  },
  {
   "cell_type": "markdown",
   "id": "e6ad3000-91b2-46b5-9098-309a00f4470a",
   "metadata": {
    "id": "bea983a3"
   },
   "source": [
    "---\n",
    "\n",
    "### Exercise 52:\n",
    "Write a Python program that converts a list of tuples `[(1, 2), (3, 4), (5, 6)]` into a dictionary.\n",
    "\n",
    "```python\n",
    "# Exercise 52\n",
    "```"
   ]
  },
  {
   "cell_type": "code",
   "execution_count": 41,
   "id": "8082edef-8741-4fdc-9ff8-c8d57e4b345a",
   "metadata": {},
   "outputs": [
    {
     "data": {
      "text/plain": [
       "{1: 2, 3: 4, 5: 6}"
      ]
     },
     "execution_count": 41,
     "metadata": {},
     "output_type": "execute_result"
    }
   ],
   "source": [
    "def dict_from_list_tuples(list_of_tuples) -> dict :\n",
    "    return dict(list_of_tuples)\n",
    "\n",
    "list_of_tuples = [(1, 2), (3, 4), (5, 6)]\n",
    "dict_from_list_tuples(list_of_tuples)"
   ]
  },
  {
   "cell_type": "markdown",
   "id": "41be92bd-a9e1-4ad9-b2a9-285c981145f3",
   "metadata": {
    "id": "bea983a3"
   },
   "source": [
    "---\n",
    "\n",
    "### Exercise 53:\n",
    "Write a Python function that takes two sets and returns their symmetric difference.\n",
    "\n",
    "```python\n",
    "# Exercise 53\n",
    "```"
   ]
  },
  {
   "cell_type": "code",
   "execution_count": 43,
   "id": "01539c4b-2a3c-4571-8df7-96edb77516c0",
   "metadata": {},
   "outputs": [
    {
     "name": "stdout",
     "output_type": "stream",
     "text": [
      "{1, 2, 5, 6}\n"
     ]
    }
   ],
   "source": [
    "def symmetric_diff(my_set1:set, my_set2:set): # j-i pourtout j appartenant à set2, i appartenant à set1\n",
    "    return my_set1.symmetric_difference(my_set2) # we can olso use for loop \n",
    "\n",
    "# Example usage\n",
    "set1 = {1, 2, 3, 4}\n",
    "set2 = {3, 4, 5, 6}\n",
    "\n",
    "res = symmetric_diff(set1, set2)\n",
    "\n",
    "print(res)"
   ]
  },
  {
   "cell_type": "markdown",
   "id": "ec2442c0-6adf-44e2-9455-f621204ebcbf",
   "metadata": {
    "id": "bea983a3"
   },
   "source": [
    "---\n",
    "\n",
    "### Exercise 54:\n",
    "Write a Python program that finds the common elements in three lists `list1`, `list2`, and `list3`.\n",
    "\n",
    "```python\n",
    "# Exercise 54\n",
    "```"
   ]
  },
  {
   "cell_type": "code",
   "execution_count": 45,
   "id": "6d8071cf-12d9-443c-b2dc-af3c62a16c49",
   "metadata": {},
   "outputs": [
    {
     "name": "stdout",
     "output_type": "stream",
     "text": [
      "[2, 4]\n"
     ]
    }
   ],
   "source": [
    "def common_elem_in_list(list1, list2, list3):\n",
    "    common = set(list1) &set(list2) & set(list3)\n",
    "    return list(common)\n",
    "\n",
    "# Example usage\n",
    "list1 = [1, 2, 3,4]\n",
    "list2 = [2,4,6,8]\n",
    "list3 = [1,2,4,7,9]\n",
    "\n",
    "result = common_elem_in_list(list1, list2, list3)\n",
    "\n",
    "print(result)  "
   ]
  },
  {
   "cell_type": "markdown",
   "id": "e80e6b43-5860-4d09-900c-8e5cb86b0995",
   "metadata": {
    "id": "bea983a3"
   },
   "source": [
    "---\n",
    "\n",
    "### Exercise 55:\n",
    "Write a Python function that returns the factorial of a number using recursion.\n",
    "\n",
    "```python\n",
    "# Exercise 55\n",
    "```"
   ]
  },
  {
   "cell_type": "code",
   "execution_count": 57,
   "id": "f79b8c41-d36a-469f-b3cb-8297ecc8e0fa",
   "metadata": {},
   "outputs": [
    {
     "name": "stdout",
     "output_type": "stream",
     "text": [
      "The factorial of 7 is 5040\n"
     ]
    }
   ],
   "source": [
    "def factoriel(n):\n",
    "    if n < 0:\n",
    "        raise ValueError(\"Not alowed for negative numbers\")\n",
    "    elif n == 0 or n == 1:\n",
    "        return 1  # Base case: factorial of 0 or 1 is 1\n",
    "    else:\n",
    "        return n * factoriel(n - 1)  # Recursive case\n",
    "\n",
    "# Example usage\n",
    "try:\n",
    "    number =7\n",
    "    fact = factoriel(number)\n",
    "    print(f\"The factorial of {number} is {fact}\")  # Output: The factorial of 5 is 120\n",
    "except ValueError as er:\n",
    "    print(er)"
   ]
  },
  {
   "cell_type": "markdown",
   "id": "1cf8e2e8-cde0-4aca-9be0-0032f52e89f9",
   "metadata": {
    "id": "bea983a3"
   },
   "source": [
    "---\n",
    "\n",
    "### Exercise 56:\n",
    "Write a Python program that removes all empty strings from the list `[\"apple\", \"\", \"banana\", \"\", \"cherry\"]`.\n",
    "\n",
    "```python\n",
    "# Exercise 56\n",
    "```"
   ]
  },
  {
   "cell_type": "code",
   "execution_count": 58,
   "id": "eb1837db-da39-46cc-8650-2efafd181ab7",
   "metadata": {},
   "outputs": [
    {
     "name": "stdout",
     "output_type": "stream",
     "text": [
      "['apple', 'banana', 'cherry']\n"
     ]
    }
   ],
   "source": [
    "fruits = [\"apple\", \"\", \"banana\", \"\", \"cherry\"]\n",
    "filtered_fruits = [fruit for fruit in fruits if fruit]\n",
    "print(filtered_fruits) "
   ]
  },
  {
   "cell_type": "code",
   "execution_count": 61,
   "id": "b0f2e067-a072-464c-bcca-0aa886afd7cc",
   "metadata": {},
   "outputs": [
    {
     "name": "stdout",
     "output_type": "stream",
     "text": [
      "['apple', 'banana', 'cherry']\n"
     ]
    }
   ],
   "source": [
    "fruits = [\"apple\", \"\", \"banana\", \"\", \"cherry\"]\n",
    "new_fruits =[]\n",
    "for fruit in fruits :\n",
    "    if fruit:\n",
    "        new_fruits.append(fruit)\n",
    "print(new_fruits)\n",
    "        #print(filtered_fruits)"
   ]
  },
  {
   "cell_type": "markdown",
   "id": "930fed20-87e6-41e0-b3e9-8759fc31d39b",
   "metadata": {
    "id": "bea983a3"
   },
   "source": [
    "---\n",
    "\n",
    "### Exercise 57:\n",
    "Write a Python function that takes a dictionary and returns a new dictionary with the keys and values swapped.\n",
    "\n",
    "```python\n",
    "# Exercise 57\n",
    "```"
   ]
  },
  {
   "cell_type": "code",
   "execution_count": 12,
   "id": "d72f3362-ded1-4608-b79a-d70be8ab7b1d",
   "metadata": {},
   "outputs": [
    {
     "data": {
      "text/plain": [
       "{'Christian': 'name', 35: 'age'}"
      ]
     },
     "execution_count": 12,
     "metadata": {},
     "output_type": "execute_result"
    }
   ],
   "source": [
    "def swap_keys_values(init_dict: dict)->dict:\n",
    "    final_dict ={}\n",
    "    for k,v in init_dict.items():\n",
    "        final_dict[v] = k\n",
    "    return final_dict     \n",
    "\n",
    "init = {\"name\":\"Christian\",\"age\":35}\n",
    "swap_keys_values(init)"
   ]
  },
  {
   "cell_type": "code",
   "execution_count": 15,
   "id": "7b563872-eaa9-4f0b-8d5a-23a9fa2abfe5",
   "metadata": {},
   "outputs": [
    {
     "data": {
      "text/plain": [
       "{'Christian': 'name', 35: 'age'}"
      ]
     },
     "execution_count": 15,
     "metadata": {},
     "output_type": "execute_result"
    }
   ],
   "source": [
    "# or using dictionnary comprehension like this :\n",
    "def swap_keys_values(init_dict: dict)->dict:\n",
    "    return {v: k for k, v in init_dict.items()}     \n",
    "\n",
    "init = {\"name\":\"Christian\",\"age\":35}\n",
    "swap_keys_values(init)"
   ]
  },
  {
   "cell_type": "markdown",
   "id": "f3ad76e3-5ed6-4cfd-8098-83f1d8f8f948",
   "metadata": {
    "id": "bea983a3"
   },
   "source": [
    "---\n",
    "\n",
    "### Exercise 58:\n",
    "Write a Python function that takes a list of integers and returns a new list with only the even numbers.\n",
    "\n",
    "```python\n",
    "# Exercise 58\n",
    "```"
   ]
  },
  {
   "cell_type": "code",
   "execution_count": 18,
   "id": "065d4969-4fd6-42df-9a1e-9d923b5e2657",
   "metadata": {},
   "outputs": [
    {
     "name": "stdout",
     "output_type": "stream",
     "text": [
      "[0, 2, 4, 6, 8, 10]\n"
     ]
    }
   ],
   "source": [
    "# Looks like Execice 51\n",
    "def filter_even_numbers(int_list):\n",
    "    return [num for num in int_list if num % 2 == 0]\n",
    "\n",
    "#Appel :\n",
    "init_list = [i for i in range(0,20)]\n",
    "even_numbers = filter_even_numbers(init_list)\n",
    "\n",
    "print(even_numbers)"
   ]
  },
  {
   "cell_type": "markdown",
   "id": "5dc641e2-106c-49e5-9eb9-fc69020ff6f9",
   "metadata": {
    "id": "bea983a3"
   },
   "source": [
    "---\n",
    "\n",
    "### Exercise 59:\n",
    "Write a Python function that takes a list of tuples and returns a list of the first elements of each tuple.\n",
    "\n",
    "```python\n",
    "# Exercise 59\n",
    "```"
   ]
  },
  {
   "cell_type": "code",
   "execution_count": 21,
   "id": "ab345f23-1351-4418-bcf7-552f5c979b83",
   "metadata": {},
   "outputs": [
    {
     "name": "stdout",
     "output_type": "stream",
     "text": [
      "[1, 3, 5]\n"
     ]
    }
   ],
   "source": [
    "def first_elements(tuple_list):\n",
    "    return [elem[0] for elem in tuple_list]\n",
    "\n",
    "my_tuples = [(1, 2), (3, 4), (5, 6)]\n",
    "f_elements = first_elements(my_tuples)\n",
    "\n",
    "print(f_elements)"
   ]
  },
  {
   "cell_type": "markdown",
   "id": "6646eb2f-2237-4b26-9246-17e476339613",
   "metadata": {
    "id": "bea983a3"
   },
   "source": [
    "---\n",
    "\n",
    "### Exercise 60:\n",
    "Write a Python program that removes duplicates from a list without changing the order of elements.\n",
    "\n",
    "```python\n",
    "# Exercise 60\n",
    "```"
   ]
  },
  {
   "cell_type": "code",
   "execution_count": 22,
   "id": "e9b1e75d-cac3-4da1-9edd-51eafcbf112d",
   "metadata": {},
   "outputs": [],
   "source": [
    "# I provided the solution at Exercise 49, did't know that such question will come after :\n",
    "#I reproduce the same reasoning for Exercise 60, while changing the example of application"
   ]
  },
  {
   "cell_type": "code",
   "execution_count": 23,
   "id": "6f0080c9-c0ad-4c6f-887b-2449b270f61d",
   "metadata": {},
   "outputs": [
    {
     "name": "stdout",
     "output_type": "stream",
     "text": [
      "[1, 2, 3, 4, 5, 6, 7, 8, 9, 0]\n"
     ]
    }
   ],
   "source": [
    "def remove_duplicates(origin_list):\n",
    "    seen_elem = set() \n",
    "    final_list = []\n",
    "    \n",
    "    for elem in origin_list:\n",
    "        if elem not in seen_elem:\n",
    "            seen_elem.add(elem)\n",
    "            final_list.append(elem) \n",
    "            \n",
    "    return final_list\n",
    "\n",
    "# Example usage\n",
    "my_list = [1, 2, 3, 2, 4, 3, 5, 1, 6, 7, 8, 6, 7, 9, 0]\n",
    "then_list = remove_duplicates(my_list)\n",
    "\n",
    "print(then_list)"
   ]
  },
  {
   "cell_type": "code",
   "execution_count": null,
   "id": "4ca83541-565e-41ba-9ce4-27647982f67d",
   "metadata": {},
   "outputs": [],
   "source": [
    "# see Exercice 49 :\n",
    "def unique_list_char(my_string):\n",
    "    unique_chars= []\n",
    "    seen_char = []\n",
    "    for char in my_string :\n",
    "        if char not in seen_char :\n",
    "            unique_chars.append(char)\n",
    "            seen_char.append(char)\n",
    "    return list(unique_chars)\n",
    "\n",
    "my_string = \"Senegal\"\n",
    "unique_chars_l = unique_list_char(my_string)\n",
    "\n",
    "print(unique_chars_l)"
   ]
  },
  {
   "cell_type": "markdown",
   "id": "2bb68e86-e162-4d20-b56b-7054110a6ae2",
   "metadata": {
    "id": "bea983a3"
   },
   "source": [
    "---\n",
    "\n",
    "### Exercise 61:\n",
    "Use the `map()` function to convert a list of strings to a list of their lengths.\n",
    "\n",
    "```python\n",
    "# Exercise 61\n",
    "```"
   ]
  },
  {
   "cell_type": "code",
   "execution_count": 24,
   "id": "2a6fd75e-8800-439a-a8dc-c9b309f70645",
   "metadata": {},
   "outputs": [
    {
     "name": "stdout",
     "output_type": "stream",
     "text": [
      "[2, 3, 4, 6]\n"
     ]
    }
   ],
   "source": [
    "list_of_str= [\"me\", \"you\", \"tree\", \"number\"]\n",
    "lengths = list(map(len, list_of_str))\n",
    "print(lengths)  # Output: [5, 6, 6, 4]"
   ]
  },
  {
   "cell_type": "markdown",
   "id": "8734b131-45d9-4c15-8bed-e8f8ae4268cc",
   "metadata": {
    "id": "bea983a3"
   },
   "source": [
    "---\n",
    "\n",
    "### Exercise 62:\n",
    "Write a Python program that calculates the average of a list of numbers.\n",
    "\n",
    "```python\n",
    "# Exercise 62\n",
    "```"
   ]
  },
  {
   "cell_type": "code",
   "execution_count": 27,
   "id": "da4f964d-a1e4-49bf-8046-994c0ad02b1d",
   "metadata": {},
   "outputs": [
    {
     "name": "stdout",
     "output_type": "stream",
     "text": [
      "The average of [1, 2, 3, 4, 5, 6, 7, 8, 9, 10] is : 5.5\n"
     ]
    }
   ],
   "source": [
    "def list_average(list_numbers):\n",
    "    if not list_numbers:  # evite les erreurs en cas d'une liste vide\n",
    "        return 0  #\n",
    "\n",
    "    numerator = sum(list_numbers)\n",
    "    denominator = len(list_numbers)\n",
    "    average = numerator/ denominator\n",
    "\n",
    "    return average\n",
    "\n",
    "# CAll\n",
    "number_list = [1, 2, 3, 4, 5, 6, 7, 8, 9, 10]\n",
    "result = list_average(number_list)\n",
    "\n",
    "print(f\"The average of {number_list} is : {result}\")"
   ]
  },
  {
   "cell_type": "code",
   "execution_count": 29,
   "id": "30aa483b-c4ea-461b-a381-f7be0471790d",
   "metadata": {},
   "outputs": [
    {
     "name": "stdout",
     "output_type": "stream",
     "text": [
      "The average of [1, 2, 3, 4, 5, 6, 7, 8, 9, 10] is : 5.5\n"
     ]
    }
   ],
   "source": [
    "# short code\n",
    "\n",
    "def list_average(list_numbers : list):\n",
    "    if not list_numbers:  # evite les erreurs en cas d'une liste vide\n",
    "        return 0\n",
    "    return sum(list_numbers) / len(list_numbers)\n",
    "\n",
    "\n",
    "number_list = [1, 2, 3, 4, 5, 6, 7, 8, 9, 10]\n",
    "result = list_average(number_list)\n",
    "print(f\"The average of {number_list} is : {result}\")"
   ]
  },
  {
   "cell_type": "markdown",
   "id": "927636f8-14ab-45c5-9463-0e1ad4899ef4",
   "metadata": {
    "id": "bea983a3"
   },
   "source": [
    "---\n",
    "\n",
    "### Exercise 63:\n",
    "Write a Python function that generates a list of the first `n` Fibonacci numbers.\n",
    "\n",
    "```python\n",
    "# Exercise 63\n",
    "```"
   ]
  },
  {
   "cell_type": "code",
   "execution_count": 31,
   "id": "4652cf14-4d4f-4873-a385-2d98f8301765",
   "metadata": {},
   "outputs": [
    {
     "name": "stdout",
     "output_type": "stream",
     "text": [
      "The first 6 Fibonacci numbers are: [0, 1, 1, 2, 3, 5]\n"
     ]
    }
   ],
   "source": [
    "# cfr reasonning of Exercice 48 but here we don't use yield\n",
    "\n",
    "def fibonacci2(n):\n",
    "    fibonacci_list = []\n",
    "    a, b = 0, 1 \n",
    "\n",
    "    for i in range(n):\n",
    "        fibonacci_list.append(a) # In exercise 48, it was yieal a\n",
    "        a, b = b, a + b  # Update a and b to the next Fibonacci numbers\n",
    "    return fibonacci_list\n",
    "\n",
    "\n",
    "n_terms = 6\n",
    "fibonacci = fibonacci2(n_terms)\n",
    "print(f\"The first {n_terms} Fibonacci numbers are: {fibonacci}\")  # Output: The first 10 Fibonacci numbers are: [0, 1, 1, 2, 3, 5, 8, 13, 21, 34]"
   ]
  },
  {
   "cell_type": "markdown",
   "id": "cadf3f93-603b-4eaa-bc5c-64aae3a16e27",
   "metadata": {
    "id": "bea983a3"
   },
   "source": [
    "---\n",
    "\n",
    "### Exercise 64:\n",
    "Write a Python program that counts how many times each element appears in the list `[\"apple\", \"banana\", \"apple\", \"cherry\"]`.\n",
    "\n",
    "```python\n",
    "# Exercise 64\n",
    "```"
   ]
  },
  {
   "cell_type": "code",
   "execution_count": 32,
   "id": "bdf623ae-1553-4ec0-8fb0-1e70210892b3",
   "metadata": {},
   "outputs": [
    {
     "name": "stdout",
     "output_type": "stream",
     "text": [
      "Counter({'apple': 2, 'banana': 1, 'cherry': 1})\n"
     ]
    }
   ],
   "source": [
    "from collections import Counter\n",
    "my_list = [\"apple\", \"banana\", \"apple\", \"cherry\"]\n",
    "\n",
    "nb_fruit = Counter(my_list)\n",
    "print(nb_fruit)"
   ]
  },
  {
   "cell_type": "code",
   "execution_count": 33,
   "id": "4a834aac-a61e-4e78-ae4c-a6d2ef2a954e",
   "metadata": {},
   "outputs": [
    {
     "name": "stdout",
     "output_type": "stream",
     "text": [
      "{'apple': 2, 'banana': 1, 'cherry': 1}\n"
     ]
    }
   ],
   "source": [
    "my_list = [\"apple\", \"banana\", \"apple\", \"cherry\"]\n",
    "\n",
    "nb={}\n",
    "for elem in my_list :\n",
    "    if elem in nb:\n",
    "        nb[elem] +=1\n",
    "    else:\n",
    "        nb[elem] = 1\n",
    "        \n",
    "print(nb)"
   ]
  },
  {
   "cell_type": "markdown",
   "id": "3390067e-9d43-44da-b24a-85203a430103",
   "metadata": {
    "id": "bea983a3"
   },
   "source": [
    "---\n",
    "\n",
    "### Exercise 65:\n",
    "Write a Python program that removes all occurrences of a specific value from a list.\n",
    "\n",
    "```python\n",
    "# Exercise 65\n",
    "```"
   ]
  },
  {
   "cell_type": "code",
   "execution_count": 34,
   "id": "76b8ae8a-19c9-4f8d-b303-e1e9e947bdb8",
   "metadata": {},
   "outputs": [
    {
     "name": "stdout",
     "output_type": "stream",
     "text": [
      "Initial List: [1, 2, 3, 2, 4, 2, 5]\n",
      "New List: [1, 3, 4, 5]\n"
     ]
    }
   ],
   "source": [
    "# short code with list comprehension than with loops\n",
    "def remove_value(origin_list, value2remove):\n",
    "    return [value for value in origin_list if value != value2remove]\n",
    "\n",
    "\n",
    "my_list = [1, 2, 3, 2, 4, 2, 5]\n",
    "value2r = 2\n",
    "new_list = remove_value(my_list, value2r)\n",
    "print(\"Initial List:\", my_list)\n",
    "print(\"New List:\", new_list)"
   ]
  },
  {
   "cell_type": "markdown",
   "id": "5882738d-3faa-4f22-93cd-613c9a3ea0d6",
   "metadata": {
    "id": "bea983a3"
   },
   "source": [
    "---\n",
    "\n",
    "### Exercise 66:\n",
    "Write a Python function that takes a list of strings and returns a list of the strings that start with a vowel.\n",
    "\n",
    "```python\n",
    "# Exercise 66\n",
    "```"
   ]
  },
  {
   "cell_type": "code",
   "execution_count": 36,
   "id": "20bbbf3d-9b9d-4a90-adee-2fa1c07e2b18",
   "metadata": {},
   "outputs": [
    {
     "name": "stdout",
     "output_type": "stream",
     "text": [
      "Original List: ['apple', 'banana', 'umbrella', 'grape', 'orange', 'kiwi']\n",
      "Filtered List: ['apple', 'umbrella', 'orange']\n"
     ]
    }
   ],
   "source": [
    "# short code with list comprehension then with loops and if test\n",
    "def starting_by_vowel(this_list):\n",
    "    vowels_list = ('a', 'e', 'i', 'o', 'u', 'A', 'E', 'I', 'O', 'U') #Is y considered as a vowel in english ?\n",
    "    return [char for char in this_list if char.startswith(vowels_list)]\n",
    "\n",
    "string_list = [\"apple\", \"banana\", \"umbrella\", \"grape\", \"orange\", \"kiwi\"]\n",
    "filtered_list = starting_by_vowel(string_list)\n",
    "print(\"Original List:\", string_list)\n",
    "print(\"Filtered List:\", filtered_list)"
   ]
  },
  {
   "cell_type": "markdown",
   "id": "2516cffc-0c38-42f6-8603-0423e1d8f64d",
   "metadata": {
    "id": "bea983a3"
   },
   "source": [
    "---\n",
    "\n",
    "### Exercise 67:\n",
    "Write a Python program that finds the intersection of two sets `set1` and `set2`.\n",
    "\n",
    "```python\n",
    "# Exercise 67\n",
    "```"
   ]
  },
  {
   "cell_type": "code",
   "execution_count": null,
   "id": "ee60bb47-bec2-494b-b87c-c9d734e42cca",
   "metadata": {},
   "outputs": [],
   "source": [
    "# same reasoning as exercise 54 : différence we had lists for ex54; here we have we have 2 sets"
   ]
  },
  {
   "cell_type": "code",
   "execution_count": 38,
   "id": "6c74dca6-1100-4d56-a139-bb40e089cf50",
   "metadata": {},
   "outputs": [
    {
     "name": "stdout",
     "output_type": "stream",
     "text": [
      "Set 1: {1, 2, 3, 4, 5}\n",
      "Set 2: {4, 5, 6, 7, 8}\n",
      "Intersection: {4, 5}\n"
     ]
    }
   ],
   "source": [
    "def set_intersection(set1 :set, set2 : set):\n",
    "    \"Inserction of two stes\"\n",
    "    return set1.intersection(set2)\n",
    "\n",
    "set1 = {1, 2, 3, 4, 5}\n",
    "set2 = {4, 5, 6, 7, 8}\n",
    "intersection = set_intersection(set1, set2)\n",
    "print(\"Set 1:\", set1)\n",
    "print(\"Set 2:\", set2)\n",
    "print(\"Intersection:\", intersection)"
   ]
  },
  {
   "cell_type": "markdown",
   "id": "69c4f0a0-4124-4f44-b65b-7ee5f24d81e9",
   "metadata": {
    "id": "bea983a3"
   },
   "source": [
    "---\n",
    "\n",
    "### Exercise 68:\n",
    "Write a Python function that flattens a nested list.\n",
    "\n",
    "```python\n",
    "# Exercise 68\n",
    "```"
   ]
  },
  {
   "cell_type": "code",
   "execution_count": null,
   "id": "7a1eeaec-8326-4a23-aad6-242ab2c5ecce",
   "metadata": {},
   "outputs": [],
   "source": [
    "def flatten_list(lis_of_list):\n",
    "    \"\"\"Flatten a nested list into a single list.\"\"\"\n",
    "    flattened_list = []\n",
    "    \n",
    "    for elem in list_of_list:\n",
    "        if isinstance(elem, list):\n",
    "            flattened_list.extend(flatten_list(elem))  # Recursive call for nested lists\n",
    "        else:\n",
    "            flattened_list.append(elem)\n",
    "    return flattened_list\n",
    "\n",
    "\n",
    "alist = [[1, 2, [3, 4]], [5, 6], 7, [8, [9, 10]]]\n",
    "flattened_list = flatten_list(nested)\n",
    "print(\"Nested List:\", nested)\n",
    "print(\"Flattened List:\", flattened_list)\n",
    "\n"
   ]
  },
  {
   "cell_type": "markdown",
   "id": "dfdee7a9-58e2-4e85-af94-f395fa912bde",
   "metadata": {
    "id": "bea983a3"
   },
   "source": [
    "---\n",
    "\n",
    "### Exercise 69:\n",
    "Write a Python program that checks if all the elements in a list are unique.\n",
    "\n",
    "```python\n",
    "# Exercise 69\n",
    "```\n",
    "\n",
    "---\n",
    "\n",
    "### Exercise 70:\n",
    "Use the `reduce()` function from the `functools` module to multiply all elements in a list.\n",
    "\n",
    "```python\n",
    "# Exercise 70\n",
    "```\n",
    "\n",
    "---\n",
    "\n",
    "### Exercise 71:\n",
    "Write a Python function that takes a list of strings and returns a dictionary where keys are strings and values are their lengths.\n",
    "\n",
    "```python\n",
    "# Exercise 71\n",
    "```\n",
    "\n",
    "---\n",
    "\n",
    "### Exercise 72:\n",
    "Write a Python program that counts the number of vowels in a string.\n",
    "\n",
    "```python\n",
    "# Exercise 72\n",
    "```\n",
    "\n",
    "---\n",
    "\n",
    "### Exercise 73:\n",
    "Create a list of tuples where each tuple contains a number from 1 to 5 and its factorial.\n",
    "\n",
    "```python\n",
    "# Exercise 73\n",
    "```\n",
    "\n",
    "---\n",
    "\n",
    "### Exercise 74:\n",
    "Write a Python program that converts a list of dictionaries into a single dictionary by merging them.\n",
    "\n",
    "```python\n",
    "# Exercise 74\n",
    "```\n",
    "\n",
    "---\n",
    "\n",
    "### Exercise 75:\n",
    "Write a Python function that checks if a set is a subset of another set.\n",
    "\n",
    "```python\n",
    "# Exercise 75\n",
    "```\n",
    "\n",
    "---\n",
    "\n",
    "### Exercise 76:\n",
    "Write a Python program that sorts a list of tuples based on the second element in each tuple.\n",
    "\n",
    "```python\n",
    "# Exercise 76\n",
    "```\n",
    "\n",
    "---\n",
    "\n",
    "### Exercise 77:\n",
    "Write a Python function that takes a list of integers and returns a new list with only the positive integers.\n",
    "\n",
    "```python\n",
    "# Exercise 77\n",
    "```\n",
    "\n",
    "---\n",
    "\n",
    "### Exercise 78:\n",
    "Write a Python function that takes two sets and returns their union.\n",
    "\n",
    "```python\n",
    "# Exercise 78\n",
    "```\n",
    "\n",
    "---\n",
    "\n",
    "### Exercise 79:\n",
    "Write a Python function that takes a list of numbers and returns the product of all the numbers.\n",
    "\n",
    "```python\n",
    "# Exercise 79\n",
    "```\n",
    "\n",
    "---\n",
    "\n",
    "### Exercise 80:\n",
    "Write a Python program that converts a list of characters into a string.\n",
    "\n",
    "```python\n",
    "# Exercise 80\n",
    "```\n",
    "\n",
    "---\n",
    "\n",
    "### Exercise 81:\n",
    "Write a Python program that finds the second largest number in a list of integers.\n",
    "\n",
    "```python\n",
    "# Exercise 81\n",
    "```\n",
    "\n",
    "---\n",
    "\n",
    "### Exercise 82:\n",
    "Write a Python function that takes a dictionary and returns a list of its keys in sorted order.\n",
    "\n",
    "```python\n",
    "# Exercise 82\n",
    "```\n",
    "\n",
    "---\n",
    "\n",
    "### Exercise 83:\n",
    "Write a Python program that finds the most common element in a list.\n",
    "\n",
    "```python\n",
    "# Exercise 83\n",
    "```\n",
    "\n",
    "---\n",
    "\n",
    "### Exercise 84:\n",
    "Write a Python function that takes a list of tuples and returns a list of the tuples sorted by the first element.\n",
    "\n",
    "```python\n",
    "# Exercise 84\n",
    "```\n",
    "\n",
    "---\n",
    "\n",
    "### Exercise 85:\n",
    "Write a Python program that removes duplicates from a list of dictionaries.\n",
    "\n",
    "```python\n",
    "# Exercise 85\n",
    "```\n",
    "\n",
    "---\n",
    "\n",
    "### Exercise 86:\n",
    "Write a Python function that takes a list of numbers and returns the minimum and maximum numbers in the list.\n",
    "\n",
    "```python\n",
    "# Exercise 86\n",
    "```\n",
    "\n",
    "---\n",
    "\n",
    "### Exercise 87:\n",
    "Write a Python program that creates a list of tuples from two lists.\n",
    "\n",
    "```python\n",
    "# Exercise 87\n",
    "```\n",
    "\n",
    "---\n",
    "\n",
    "### Exercise 88:\n",
    "Write a Python function that takes a list of strings and returns a list of the strings in reverse order.\n",
    "\n",
    "```python\n",
    "# Exercise 88\n",
    "```\n",
    "\n",
    "---\n",
    "\n",
    "### Exercise 89:\n",
    "Write a Python function that takes a list of integers and returns the sum of all odd numbers.\n",
    "\n",
    "```python\n",
    "# Exercise 89\n",
    "```\n",
    "\n",
    "---\n",
    "\n",
    "### Exercise 90:\n",
    "Write a Python program that checks if a string is a palindrome.\n",
    "\n",
    "```python\n",
    "# Exercise 90\n",
    "```\n",
    "\n",
    "---\n",
    "\n",
    "### Exercise 91:\n",
    "Write a Python program that finds the median of a list of numbers.\n",
    "\n",
    "```python\n",
    "# Exercise 91\n",
    "```\n",
    "\n",
    "---\n",
    "\n",
    "### Exercise 92:\n",
    "Write a Python function that takes a list of dictionaries and returns a dictionary with the total value for each key.\n",
    "\n",
    "```python\n",
    "# Exercise 92\n",
    "```\n",
    "\n",
    "---\n",
    "\n",
    "### Exercise 93:\n",
    "Write a Python program that calculates the mode of a list of numbers.\n",
    "\n",
    "```python\n",
    "# Exercise 93\n",
    "```\n",
    "\n",
    "---\n",
    "\n",
    "### Exercise 94:\n",
    "Write a Python function that takes a list of numbers and returns the sum of the squares of all the numbers.\n",
    "\n",
    "```python\n",
    "# Exercise 94\n",
    "```\n",
    "\n",
    "---\n",
    "\n",
    "### Exercise 95:\n",
    "Write a Python program that creates a list of tuples, where each tuple contains a number and its cube for numbers from 1 to 5.\n",
    "\n",
    "```python\n",
    "# Exercise 95\n",
    "```\n",
    "\n",
    "---\n",
    "\n",
    "### Exercise 96:\n",
    "Write a Python function that returns a list of all prime numbers up to `n`.\n",
    "\n",
    "```python\n",
    "# Exercise 96\n",
    "```\n",
    "\n",
    "---\n",
    "\n",
    "### Exercise 97:\n",
    "Write a Python program that finds the common keys between two dictionaries.\n",
    "\n",
    "```python\n",
    "# Exercise 97\n",
    "```\n",
    "\n",
    "---\n",
    "\n",
    "### Exercise 98:\n",
    "Write a Python function that takes a list of strings and returns a list of the strings that contain more than 5 characters.\n",
    "\n",
    "```python\n",
    "# Exercise 98\n",
    "```\n",
    "\n",
    "---\n",
    "\n",
    "### Exercise 99:\n",
    "Write a Python program that converts a list of strings into a list of tuples, where each tuple contains the string and its length.\n",
    "\n",
    "```python\n",
    "# Exercise 99\n",
    "```\n",
    "\n",
    "---\n",
    "\n",
    "### Exercise 100:\n",
    "Write a Python function that takes a list of dictionaries and returns a new dictionary by summing the values of each key across all dictionaries.\n",
    "\n",
    "```python\n",
    "# Exercise 100\n",
    "```\n",
    "\n",
    "---"
   ]
  }
 ],
 "metadata": {
  "colab": {
   "provenance": []
  },
  "kernelspec": {
   "display_name": "Python [conda env:base] *",
   "language": "python",
   "name": "conda-base-py"
  },
  "language_info": {
   "codemirror_mode": {
    "name": "ipython",
    "version": 3
   },
   "file_extension": ".py",
   "mimetype": "text/x-python",
   "name": "python",
   "nbconvert_exporter": "python",
   "pygments_lexer": "ipython3",
   "version": "3.12.7"
  }
 },
 "nbformat": 4,
 "nbformat_minor": 5
}
