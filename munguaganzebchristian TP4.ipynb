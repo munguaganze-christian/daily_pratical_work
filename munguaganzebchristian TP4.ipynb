{
 "cells": [
  {
   "cell_type": "markdown",
   "id": "d68c1dee",
   "metadata": {
    "id": "d68c1dee"
   },
   "source": [
    "# Practical_4: Flow control"
   ]
  },
  {
   "cell_type": "markdown",
   "id": "541ba4e5-0ba7-4963-baaa-62433db751bc",
   "metadata": {
    "id": "bea983a3"
   },
   "source": [
    "---\n",
    "\n",
    "### Exercise 1:\n",
    "Write a Python program that checks if a number is positive or negative."
   ]
  },
  {
   "cell_type": "code",
   "execution_count": 3,
   "id": "644dec63-bd55-4c76-8031-3759f2d14dda",
   "metadata": {},
   "outputs": [
    {
     "name": "stdin",
     "output_type": "stream",
     "text": [
      "Enter a number:  2\n"
     ]
    },
    {
     "name": "stdout",
     "output_type": "stream",
     "text": [
      "The number is positive.\n"
     ]
    }
   ],
   "source": [
    "def is_positive_or_negative(number):\n",
    "    \"\"\"Check if the number is positive, negative, or zero.\"\"\"\n",
    "    if number > 0:\n",
    "        return \"The number is positive.\"\n",
    "    elif number < 0:\n",
    "        return \"The number is negative.\"\n",
    "    else:\n",
    "        return \"The number is zero.\" # this is not specified in the question\n",
    "\n",
    "\n",
    "try:\n",
    "    number = float(input(\"Enter a number: \"))  # Input from user\n",
    "    response = is_positive_or_negative(number)\n",
    "    print(response)\n",
    "except ValueError:\n",
    "    print(\"Please enter a valid number.\")"
   ]
  },
  {
   "cell_type": "markdown",
   "id": "62ae7421-b551-4444-883e-833f6e078321",
   "metadata": {
    "id": "bea983a3"
   },
   "source": [
    "---\n",
    "\n",
    "### Exercise 2:\n",
    "Write a Python function that checks if a string starts with a vowel.\n",
    "\n",
    "```python\n",
    "# Exercise 2\n",
    "```"
   ]
  },
  {
   "cell_type": "code",
   "execution_count": 6,
   "id": "fa8adfc8-be5b-4c53-b486-5022b3aa6ef5",
   "metadata": {},
   "outputs": [
    {
     "name": "stdin",
     "output_type": "stream",
     "text": [
      "Please enter your string:  blem\n"
     ]
    },
    {
     "name": "stdout",
     "output_type": "stream",
     "text": [
      "\"blem\" does not start with a vowel.\n"
     ]
    }
   ],
   "source": [
    "def starting_vowel(my_string):\n",
    "    vowels = ('a', 'e', 'i', 'o', 'u', 'A', 'E', 'I', 'O', 'U') #  at which time y is a vowel in english ?\n",
    "    return my_string.startswith(vowels)\n",
    "\n",
    "string = input(\"Please enter your string: \")\n",
    "if starting_vowel(string):\n",
    "    print(f'\"{string}\" starts with a vowel.')\n",
    "else:\n",
    "    print(f'\"{string}\" does not start with a vowel.')"
   ]
  },
  {
   "cell_type": "markdown",
   "id": "101a70f7-4e07-486b-a266-9aa3798fde68",
   "metadata": {
    "id": "bea983a3"
   },
   "source": [
    "---\n",
    "\n",
    "### Exercise 3:\n",
    "Write a Python program that takes a list of integers and prints \"Even\" for each even number and \"Odd\" for each odd number.\n",
    "\n",
    "```python\n",
    "# Exercise 3\n",
    "```"
   ]
  },
  {
   "cell_type": "code",
   "execution_count": 7,
   "id": "d4debb8d-f5a5-4989-bb64-c6ff5e257f54",
   "metadata": {},
   "outputs": [
    {
     "name": "stdout",
     "output_type": "stream",
     "text": [
      "1: is Odd\n",
      "2: is Even\n",
      "3: is Odd\n",
      "4: is Even\n",
      "5: is Odd\n",
      "6: is Even\n"
     ]
    }
   ],
   "source": [
    "def is_even_or_odd(list_of_int):\n",
    "    \"\"\"Print 'Even' for even numbers and 'Odd' for odd numbers.\"\"\"\n",
    "    for integ in list_of_int:\n",
    "        if integ % 2 == 0:\n",
    "            print(f\"{integ}: is Even\")\n",
    "        else:\n",
    "            print(f\"{integ}: is Odd\")\n",
    "\n",
    "my_list = [1, 2, 3, 4, 5, 6]\n",
    "is_even_or_odd(my_list)"
   ]
  },
  {
   "cell_type": "markdown",
   "id": "413f6a1b-44bf-4ddc-9a45-f07897ebf498",
   "metadata": {
    "id": "bea983a3"
   },
   "source": [
    "---\n",
    "\n",
    "### Exercise 4:\n",
    "Write a Python program that checks if a given year is a leap year.\n",
    "\n",
    "```python\n",
    "# Exercise 4\n",
    "```"
   ]
  },
  {
   "cell_type": "code",
   "execution_count": 11,
   "id": "d81d6419-bfc2-47de-8065-465645df8cb8",
   "metadata": {},
   "outputs": [
    {
     "name": "stdin",
     "output_type": "stream",
     "text": [
      "Enter year:  1950\n"
     ]
    },
    {
     "name": "stdout",
     "output_type": "stream",
     "text": [
      "1950 is not a leap year.\n"
     ]
    }
   ],
   "source": [
    "def is_leap_year(year):\n",
    "    \n",
    "    if (year % 4 == 0 and year % 100 != 0) or (year % 400 == 0):\n",
    "        return True\n",
    "    return False\n",
    "\n",
    "\n",
    "try:\n",
    "    year = int(input(\"Enter year: \"))  # Input from user\n",
    "    if is_leap_year(year):\n",
    "        print(f\"{year} is a leap year.\")\n",
    "    else:\n",
    "        print(f\"{year} is not a leap year.\")\n",
    "except ValueError:\n",
    "    print(\"Please enter a valid year.\")"
   ]
  },
  {
   "cell_type": "markdown",
   "id": "32e61dcc-e022-42a4-9da3-3af30c425f97",
   "metadata": {
    "id": "bea983a3"
   },
   "source": [
    "---\n",
    "\n",
    "### Exercise 5:\n",
    "Write a Python function that checks if a number is divisible by both 3 and 5.\n",
    "\n",
    "```python\n",
    "# Exercise 5\n",
    "```"
   ]
  },
  {
   "cell_type": "code",
   "execution_count": 13,
   "id": "bfea57c0-dc63-461c-9508-1fb44f61c416",
   "metadata": {},
   "outputs": [
    {
     "name": "stdin",
     "output_type": "stream",
     "text": [
      "Type your number:  3\n"
     ]
    },
    {
     "name": "stdout",
     "output_type": "stream",
     "text": [
      "3 is not divisible by both 3 and 5.\n"
     ]
    }
   ],
   "source": [
    "def divisible_by3_and5(number):\n",
    "    return number % 3 == 0 and number % 5 == 0\n",
    "\n",
    "try:\n",
    "    num = int(input(\"Type your number: \"))\n",
    "    if divisible_by3_and5(num):\n",
    "        print(f\"{num} is divisible by both 3 and 5.\")\n",
    "    else:\n",
    "        print(f\"{num} is not divisible by both 3 and 5.\")\n",
    "except ValueError:\n",
    "    print(\"Please enter a valid number.\")"
   ]
  },
  {
   "cell_type": "markdown",
   "id": "b83c8500-43e9-4e66-9a09-7a3276442bf3",
   "metadata": {
    "id": "bea983a3"
   },
   "source": [
    "---\n",
    "\n",
    "### Exercise 6:\n",
    "Write a Python program that prints \"Hot\" if the temperature is above 30, \"Warm\" if it is between 15 and 30, and \"Cold\" if it is below 15.\n",
    "\n",
    "```python\n",
    "# Exercise 6\n",
    "```"
   ]
  },
  {
   "cell_type": "code",
   "execution_count": 16,
   "id": "acd65472-c8e4-424d-a974-cbdb907f2083",
   "metadata": {},
   "outputs": [
    {
     "name": "stdin",
     "output_type": "stream",
     "text": [
      "Enter the temperature:  30\n"
     ]
    },
    {
     "name": "stdout",
     "output_type": "stream",
     "text": [
      "Warm\n"
     ]
    }
   ],
   "source": [
    "def check_tempe(temperature):\n",
    "    \n",
    "    if temperature > 30:\n",
    "        print(\"Hot\")\n",
    "    elif 15 <= temperature <= 30:\n",
    "        print(\"Warm\")\n",
    "    else:\n",
    "        print(\"Cold\")\n",
    "\n",
    "try:\n",
    "    temp = float(input(\"Enter the temperature: \"))  # Input from user\n",
    "    check_tempe(temp)\n",
    "except ValueError:\n",
    "    print(\"Please enter a valid temperature.\")"
   ]
  },
  {
   "cell_type": "markdown",
   "id": "088810b6-b1bb-4e84-97c4-5a8d11b30f2f",
   "metadata": {
    "id": "bea983a3"
   },
   "source": [
    "---\n",
    "\n",
    "### Exercise 7:\n",
    "Write a Python program that checks if a string contains the letter 'a'.\n",
    "\n",
    "```python\n",
    "# Exercise 7\n",
    "```"
   ]
  },
  {
   "cell_type": "code",
   "execution_count": 21,
   "id": "92157007-cf0a-43d3-9c17-26fb1db1199d",
   "metadata": {},
   "outputs": [
    {
     "name": "stdin",
     "output_type": "stream",
     "text": [
      "Enter a string:  me\n"
     ]
    },
    {
     "name": "stdout",
     "output_type": "stream",
     "text": [
      "The string 'me' does not contain the letter 'a'.\n"
     ]
    }
   ],
   "source": [
    "def contains_a(string):\n",
    "    return 'a' in string.lower()  # Convert to lowercase for case-insensitive check\n",
    "\n",
    "astring = input(\"Enter a string: \")  # Input from user\n",
    "if contains_a(astring):\n",
    "    print(f\"The string {astring} contains the letter 'a'.\")\n",
    "else:\n",
    "    print(f\"The string '{astring}' does not contain the letter 'a'.\")"
   ]
  },
  {
   "cell_type": "markdown",
   "id": "7be03132-cd1d-411a-a388-2d2df66843ca",
   "metadata": {
    "id": "bea983a3"
   },
   "source": [
    "---\n",
    "\n",
    "### Exercise 8:\n",
    "Write a Python function that checks if two numbers are equal, or which one is larger.\n",
    "\n",
    "```python\n",
    "# Exercise 8\n",
    "```"
   ]
  },
  {
   "cell_type": "code",
   "execution_count": 22,
   "id": "8c290dfa-f9c2-4532-983a-73268e1a0fa8",
   "metadata": {},
   "outputs": [
    {
     "name": "stdin",
     "output_type": "stream",
     "text": [
      "Enter the first number:  12\n",
      "Enter the second number:  6\n"
     ]
    },
    {
     "name": "stdout",
     "output_type": "stream",
     "text": [
      "12.0 is larger than 6.0.\n"
     ]
    }
   ],
   "source": [
    "def equal_or_lar(n1, n2):\n",
    "    \n",
    "    if n1 == n2:\n",
    "        return f\"The numbers {n1} and {n2} are equal.\"\n",
    "    elif n1 > n2:\n",
    "        return f\"{n1} is larger than {n2}.\"\n",
    "    else:\n",
    "        return f\"{n2} is larger than {n1}.\"\n",
    "\n",
    "try:\n",
    "    number1 = float(input(\"Enter the first number: \"))\n",
    "    number2 = float(input(\"Enter the second number: \"))\n",
    "    comp = equal_or_lar(number1, number2)\n",
    "    print(comp)\n",
    "except ValueError:\n",
    "    print(\"Please enter valid numbers.\")"
   ]
  },
  {
   "cell_type": "markdown",
   "id": "01b9b030-0f9c-4e1a-b8cf-a4a479ea3fca",
   "metadata": {
    "id": "bea983a3"
   },
   "source": [
    "---\n",
    "\n",
    "### Exercise 9:\n",
    "Write a Python program that checks if a list is empty.\n",
    "\n",
    "```python\n",
    "# Exercise 9\n",
    "```"
   ]
  },
  {
   "cell_type": "code",
   "execution_count": 24,
   "id": "1f1a6530-0678-4c1d-9809-a0a7cf28a238",
   "metadata": {},
   "outputs": [
    {
     "name": "stdout",
     "output_type": "stream",
     "text": [
      "The list is not empty.\n"
     ]
    }
   ],
   "source": [
    "def is_empty(this_list):\n",
    "    return len(this_list) == 0\n",
    "\n",
    "ma_liste = [1,2,3,4] \n",
    "if is_empty(ma_liste):\n",
    "    print(\"The list is empty.\")\n",
    "else:\n",
    "    print(\"The list is not empty.\")"
   ]
  },
  {
   "cell_type": "code",
   "execution_count": 26,
   "id": "a3aab39a-14a5-457c-9386-1aa1b784ac57",
   "metadata": {},
   "outputs": [
    {
     "name": "stdout",
     "output_type": "stream",
     "text": [
      "The list is empty.\n"
     ]
    }
   ],
   "source": [
    "# with for loop\n",
    "\n",
    "def is_empty2(this_list2):\n",
    "    for _ in (this_list2):\n",
    "        return False\n",
    "    return True    \n",
    "\n",
    "ma_liste2 = [] \n",
    "if is_empty2(ma_liste2):\n",
    "    print(\"The list is empty.\")\n",
    "else:\n",
    "    print(\"The list is not empty.\")"
   ]
  },
  {
   "cell_type": "markdown",
   "id": "d3c2dcc6-085f-42be-81eb-dcf8cd9afa68",
   "metadata": {
    "id": "bea983a3"
   },
   "source": [
    "---\n",
    "\n",
    "### Exercise 10:\n",
    "Write a Python function that takes two strings and checks if they are anagrams.\n",
    "\n",
    "```python\n",
    "# Exercise 10\n",
    "```"
   ]
  },
  {
   "cell_type": "code",
   "execution_count": 30,
   "id": "022f80d9-9aa7-46e1-b993-09b8f3a3f556",
   "metadata": {},
   "outputs": [
    {
     "name": "stdin",
     "output_type": "stream",
     "text": [
      "Enter the first string:  age\n",
      "Enter the second string:  ega\n"
     ]
    },
    {
     "name": "stdout",
     "output_type": "stream",
     "text": [
      "\"age\" and \"ega\" are anagrams.\n"
     ]
    }
   ],
   "source": [
    "def anagrams(string1, string2):\n",
    "    str1_cleaned = ''.join(string1.split()).lower() # netoyage, suppression des espace\n",
    "    str2_cleaned = ''.join(string2.split()).lower()\n",
    "    return sorted(str1_cleaned) == sorted(str2_cleaned)\n",
    "\n",
    "str1 = input(\"Enter the first string: \")  # Input from user\n",
    "str2 = input(\"Enter the second string: \")  # Input from user\n",
    "    \n",
    "if anagrams(str1, str2):\n",
    "    print(f'\"{str1}\" and \"{str2}\" are anagrams.')\n",
    "else:\n",
    "    print(f'\"{str1}\" and \"{str2}\" are not anagrams.')"
   ]
  },
  {
   "cell_type": "markdown",
   "id": "ff55cc40-d18f-4771-b8dc-5c5340bef3b6",
   "metadata": {
    "id": "bea983a3"
   },
   "source": [
    "---\n",
    "\n",
    "### Exercise 11:\n",
    "Write a Python program that checks if a number is prime.\n",
    "\n",
    "```python\n",
    "# Exercise 11\n",
    "```"
   ]
  },
  {
   "cell_type": "code",
   "execution_count": 64,
   "id": "71ae1554-8187-42da-87c7-46ec299aaec8",
   "metadata": {},
   "outputs": [
    {
     "name": "stdin",
     "output_type": "stream",
     "text": [
      "Enter a number:  1\n"
     ]
    },
    {
     "name": "stdout",
     "output_type": "stream",
     "text": [
      "1 is not a prime number.\n"
     ]
    }
   ],
   "source": [
    "def is_prime(number):\n",
    "    if number <= 1:\n",
    "        return False\n",
    "    for i in range(2, int(number**0.5) + 1):\n",
    "        if number % i == 0:\n",
    "            return False\n",
    "    return True\n",
    "\n",
    "number = int(input(\"Enter a number: \"))\n",
    "if is_prime(number):\n",
    "    print(f\"{number} is a prime number.\")\n",
    "else:\n",
    "    print(f\"{number} is not a prime number.\")"
   ]
  },
  {
   "cell_type": "markdown",
   "id": "4532fbe3-143b-4a4f-9a95-2167d9b3a79b",
   "metadata": {
    "id": "bea983a3"
   },
   "source": [
    "---\n",
    "\n",
    "### Exercise 12:\n",
    "Write a Python program that checks if a list of numbers is sorted in ascending order.\n",
    "\n",
    "```python\n",
    "# Exercise 12\n",
    "```"
   ]
  },
  {
   "cell_type": "code",
   "execution_count": 72,
   "id": "dbb62721-5501-46db-8952-31be9069cdb7",
   "metadata": {},
   "outputs": [
    {
     "name": "stdout",
     "output_type": "stream",
     "text": [
      "The list is not sorted in ascending order.\n"
     ]
    }
   ],
   "source": [
    "def sort_asc(list_numbers):\n",
    "    \n",
    "    for i in range(len(list_numbers) - 1): # -1 pour ne pas dépasser la taille de la liste, l'index commençaint par 0\n",
    "        if list_numbers[i] > list_numbers[i + 1]:\n",
    "            return False\n",
    "    return True\n",
    "    \n",
    "numbers = [9,1,3,5,8]\n",
    "if sort_asc(numbers):\n",
    "    print(\"The list is sorted in ascending order.\")\n",
    "else:\n",
    "    print(\"The list is not sorted in ascending order.\")"
   ]
  },
  {
   "cell_type": "markdown",
   "id": "af4572ca-7ac4-48f4-ac3f-5c88ba6e4c55",
   "metadata": {
    "id": "bea983a3"
   },
   "source": [
    "---\n",
    "\n",
    "### Exercise 13:\n",
    "Write a Python function that takes a character and checks if it is a digit.\n",
    "\n",
    "```python\n",
    "# Exercise 13\n",
    "```"
   ]
  },
  {
   "cell_type": "code",
   "execution_count": 75,
   "id": "81894bcf-2a7a-44a5-b5f8-179e531659e8",
   "metadata": {},
   "outputs": [
    {
     "name": "stdin",
     "output_type": "stream",
     "text": [
      "Enter a character:  a\n"
     ]
    },
    {
     "name": "stdout",
     "output_type": "stream",
     "text": [
      "a is not a digit.\n"
     ]
    }
   ],
   "source": [
    "def digit(char):\n",
    " \n",
    "    if len(char) == 1 and char.isdigit(): # we suppose we are in Base 10.\n",
    "        return True\n",
    "    return False\n",
    "\n",
    "# Example usage\n",
    "char = input(\"Enter a character: \")\n",
    "if digit(char):\n",
    "    print(f\"{char} is a digit.\")\n",
    "else:\n",
    "    print(f\"{char} is not a digit.\")"
   ]
  },
  {
   "cell_type": "markdown",
   "id": "91ed78c4-5077-4856-9d44-ed05c61702c0",
   "metadata": {
    "id": "bea983a3"
   },
   "source": [
    "---\n",
    "\n",
    "### Exercise 14:\n",
    "Write a Python function that checks if a string contains only uppercase letters.\n",
    "\n",
    "```python\n",
    "# Exercise 14\n",
    "```"
   ]
  },
  {
   "cell_type": "code",
   "execution_count": 78,
   "id": "13479991-5327-4725-9ffa-f908ef7a06d5",
   "metadata": {},
   "outputs": [
    {
     "name": "stdin",
     "output_type": "stream",
     "text": [
      "Input a string:  HOME\n"
     ]
    },
    {
     "name": "stdout",
     "output_type": "stream",
     "text": [
      "The string 'HOME' contains only uppercase letters.\n"
     ]
    }
   ],
   "source": [
    "def uppercase(string):\n",
    "    return string.isupper()\n",
    "\n",
    "\n",
    "my_string = input(\"Input a string: \")\n",
    "if uppercase(my_string):\n",
    "    print(f\"The string '{my_string}' contains only uppercase letters.\")\n",
    "else:\n",
    "    print(f\"The string '{my_string}' does not contain only uppercase letters.\")"
   ]
  },
  {
   "cell_type": "markdown",
   "id": "5a83e551-c390-4909-99b8-37ef514831f2",
   "metadata": {
    "id": "bea983a3"
   },
   "source": [
    "---\n",
    "\n",
    "### Exercise 15:\n",
    "Write a Python program that checks if a number is a multiple of 10.\n",
    "\n",
    "```python\n",
    "# Exercise 15\n",
    "```"
   ]
  },
  {
   "cell_type": "code",
   "execution_count": 80,
   "id": "d0e8f204-82a9-4429-92f7-6d7b19162f95",
   "metadata": {},
   "outputs": [
    {
     "name": "stdin",
     "output_type": "stream",
     "text": [
      "Enter a number:  10\n"
     ]
    },
    {
     "name": "stdout",
     "output_type": "stream",
     "text": [
      "10 IS a multiple of 10.\n"
     ]
    }
   ],
   "source": [
    "def multiple_of_ten(number):\n",
    "    \n",
    "    return number % 10 == 0\n",
    "\n",
    "\n",
    "n = int(input(\"Enter a number: \"))\n",
    "if multiple_of_ten(n):\n",
    "    print(f\"{n} IS a multiple of 10.\")\n",
    "else:\n",
    "    print(f\"{n} IS NOT a multiple of 10.\")"
   ]
  },
  {
   "cell_type": "markdown",
   "id": "b89c08bf-c026-478f-993b-5b12208588d9",
   "metadata": {
    "id": "bea983a3"
   },
   "source": [
    "---\n",
    "\n",
    "### Exercise 16:\n",
    "Write a Python function that checks if a list contains any duplicates.\n",
    "\n",
    "```python\n",
    "# Exercise 16\n",
    "```"
   ]
  },
  {
   "cell_type": "code",
   "execution_count": 81,
   "id": "c441c7ba-65d9-449d-b8d0-46c2120849a7",
   "metadata": {},
   "outputs": [
    {
     "name": "stdout",
     "output_type": "stream",
     "text": [
      "The list contains duplicates.\n"
     ]
    }
   ],
   "source": [
    "# Simple way i to convert the list into a set, then comparing them :\n",
    "def duplicates(my_list):\n",
    "    if len(my_list) != len(set(my_list)):\n",
    "        return True\n",
    "    else:\n",
    "        return False\n",
    "\n",
    "\n",
    "numbers = [1,2,3,6,5,2,6,8]\n",
    "if duplicates(numbers):\n",
    "    print(\"The list contains duplicates.\")\n",
    "else:\n",
    "    print(\"The list does not contain duplicates.\")"
   ]
  },
  {
   "cell_type": "markdown",
   "id": "6323d2b8-0541-464c-ba1b-029183976ba1",
   "metadata": {
    "id": "bea983a3"
   },
   "source": [
    "---\n",
    "\n",
    "### Exercise 17:\n",
    "Write a Python program that prints \"Teenager\" if the age is between 13 and 19, otherwise it prints \"Not a teenager.\"\n",
    "\n",
    "```python\n",
    "# Exercise 17\n",
    "```"
   ]
  },
  {
   "cell_type": "code",
   "execution_count": 84,
   "id": "ad4c905a-df95-49ee-9dab-2daa951771fc",
   "metadata": {},
   "outputs": [
    {
     "name": "stdin",
     "output_type": "stream",
     "text": [
      "Enter your age:  19\n"
     ]
    },
    {
     "name": "stdout",
     "output_type": "stream",
     "text": [
      "Teenager \n"
     ]
    }
   ],
   "source": [
    "def teenager(age):\n",
    "    if 13 <= age <= 19:\n",
    "        print(\"Teenager \")\n",
    "    else:\n",
    "        print(\"Not a teenager .\")\n",
    "\n",
    "# Example usage\n",
    "ag = int(input(\"Enter your age: \"))\n",
    "teenager(ag)"
   ]
  },
  {
   "cell_type": "markdown",
   "id": "1924af98-1bbb-4b7a-9feb-92c6881da75a",
   "metadata": {
    "id": "bea983a3"
   },
   "source": [
    "---\n",
    "\n",
    "### Exercise 18:\n",
    "Write a Python function that checks if a list contains an element greater than 100.\n",
    "\n",
    "```python\n",
    "# Exercise 18\n",
    "```"
   ]
  },
  {
   "cell_type": "code",
   "execution_count": 87,
   "id": "6749fac1-aed2-4da2-a510-612a459197c6",
   "metadata": {},
   "outputs": [
    {
     "name": "stdout",
     "output_type": "stream",
     "text": [
      "There is no element greater than 100..\n"
     ]
    }
   ],
   "source": [
    "def is_element_greater_100(liste):\n",
    "    for i in liste:\n",
    "        if i > 100:\n",
    "            return True\n",
    "    return False\n",
    "\n",
    "\n",
    "numbers = [1,12,100,90]\n",
    "\n",
    "if is_element_greater_100(numbers):\n",
    "    print(\"There is an element greater than 100.\")\n",
    "else:\n",
    "    print(\"There is no element greater than 100..\")"
   ]
  },
  {
   "cell_type": "markdown",
   "id": "7de60d2a-cf1c-4b6b-812c-2c9cd0186009",
   "metadata": {
    "id": "bea983a3"
   },
   "source": [
    "---\n",
    "\n",
    "### Exercise 19:\n",
    "Write a Python program that checks if a number is even or odd.\n",
    "\n",
    "```python\n",
    "# Exercise 19\n",
    "```"
   ]
  },
  {
   "cell_type": "code",
   "execution_count": 89,
   "id": "b452b97a-643d-4c2a-a180-97bbe4c5931c",
   "metadata": {},
   "outputs": [
    {
     "name": "stdin",
     "output_type": "stream",
     "text": [
      "Enter a number 2\n"
     ]
    },
    {
     "name": "stdout",
     "output_type": "stream",
     "text": [
      "2 is even.\n"
     ]
    }
   ],
   "source": [
    "n = int(input(\"Enter a number\"))\n",
    "if n % 2 == 0:\n",
    "    print(f\"{n} is even.\")\n",
    "else:\n",
    "    print(f\"{n} is odd.\")\n"
   ]
  },
  {
   "cell_type": "markdown",
   "id": "f9883cff-b9d7-4235-9587-f80c553c159f",
   "metadata": {
    "id": "bea983a3"
   },
   "source": [
    "---\n",
    "\n",
    "### Exercise 20:\n",
    "Write a Python function that checks if a string ends with a punctuation mark.\n",
    "\n",
    "```python\n",
    "# Exercise 20\n",
    "```"
   ]
  },
  {
   "cell_type": "code",
   "execution_count": null,
   "id": "6f884217-ec8d-4019-ba39-c2248c37b582",
   "metadata": {},
   "outputs": [],
   "source": [
    "import string\n",
    "\n",
    "def end_punctuation(a_string):\n",
    "    \"\"\"Check if the string ends with a punctuation mark.\"\"\"\n",
    "    return s.endswith(tuple(string.punctuation))\n",
    "\n",
    "# Example usage\n",
    "input_string = input(\"Enter a string: \")\n",
    "if ends_with_punctuation(input_string):\n",
    "    print(\"The string ends with a punctuation mark.\")\n",
    "else:\n",
    "    print(\"The string does not end with a punctuation mark.\")"
   ]
  },
  {
   "cell_type": "markdown",
   "id": "32a9a236-502a-4731-8b00-20ca45923c85",
   "metadata": {
    "id": "bea983a3"
   },
   "source": [
    "---\n",
    "\n",
    "### Exercise 21:\n",
    "Write a Python program that prints \"Yes\" if the number is between 1 and 100, otherwise it prints \"No.\"\n",
    "\n",
    "```python\n",
    "# Exercise 21\n",
    "```\n",
    "\n",
    "---\n",
    "\n",
    "### Exercise 22:\n",
    "Write a Python program that checks if two strings have the same length.\n",
    "\n",
    "```python\n",
    "# Exercise 22\n",
    "```\n",
    "\n",
    "---\n",
    "\n",
    "### Exercise 23:\n",
    "Write a Python function that checks if a number is greater than its reverse.\n",
    "\n",
    "```python\n",
    "# Exercise 23\n",
    "```\n",
    "\n",
    "---\n",
    "\n",
    "### Exercise 24:\n",
    "Write a Python program that checks if a password contains both letters and numbers.\n",
    "\n",
    "```python\n",
    "# Exercise 24\n",
    "```\n",
    "\n",
    "---\n",
    "\n",
    "### Exercise 25:\n",
    "Write a Python program that checks if a number is between two given numbers.\n",
    "\n",
    "```python\n",
    "# Exercise 25\n",
    "```\n",
    "\n",
    "---\n",
    "\n",
    "### Exercise 26:\n",
    "Write a Python function that checks if all characters in a string are unique.\n",
    "\n",
    "```python\n",
    "# Exercise 26\n",
    "```\n",
    "\n",
    "---\n",
    "\n",
    "### Exercise 27:\n",
    "Write a Python program that checks if a number is a perfect square.\n",
    "\n",
    "```python\n",
    "# Exercise 27\n",
    "```\n",
    "\n",
    "---\n",
    "\n",
    "### Exercise 28:\n",
    "Write a Python function that checks if a word is a palindrome.\n",
    "\n",
    "```python\n",
    "# Exercise 28\n",
    "```\n",
    "\n",
    "---\n",
    "\n",
    "### Exercise 29:\n",
    "Write a Python program that prints \"Fizz\" if a number is divisible by 3, \"Buzz\" if it is divisible by 5, and \"FizzBuzz\" if divisible by both.\n",
    "\n",
    "```python\n",
    "# Exercise 29\n",
    "```\n",
    "\n",
    "---\n",
    "\n",
    "### Exercise 30:\n",
    "Write a Python program that checks if the sum of the digits of a number is even.\n",
    "\n",
    "```python\n",
    "# Exercise 30\n",
    "```\n",
    "\n",
    "---\n",
    "\n",
    "### Exercise 31:\n",
    "Write a Python program that checks if a string is a valid email address.\n",
    "\n",
    "```python\n",
    "# Exercise 31\n",
    "```\n",
    "\n",
    "---\n",
    "\n",
    "### Exercise 32:\n",
    "Write a Python function that checks if a number is within 10 of 100 or 200.\n",
    "\n",
    "```python\n",
    "# Exercise 32\n",
    "```\n",
    "\n",
    "---\n",
    "\n",
    "### Exercise 33:\n",
    "Write a Python program that checks if a given string is a valid URL.\n",
    "\n",
    "```python\n",
    "# Exercise 33\n",
    "```\n",
    "\n",
    "---\n",
    "\n",
    "### Exercise 34:\n",
    "Write a Python program that checks if a list contains all even numbers.\n",
    "\n",
    "```python\n",
    "# Exercise 34\n",
    "```\n",
    "\n",
    "---\n",
    "\n",
    "### Exercise 35:\n",
    "Write a Python program that checks if a word is longer than a given length.\n",
    "\n",
    "```python\n",
    "# Exercise 35\n",
    "```\n",
    "\n",
    "---\n",
    "\n",
    "### Exercise 36:\n",
    "Write a Python program that checks if a list contains only positive numbers.\n",
    "\n",
    "```python\n",
    "# Exercise 36\n",
    "```\n",
    "\n",
    "---\n",
    "\n",
    "### Exercise 37:\n",
    "Write a Python function that checks if a year is a century year (i.e., divisible by 100).\n",
    "\n",
    "```python\n",
    "# Exercise 37\n",
    "```\n",
    "\n",
    "---\n",
    "\n",
    "### Exercise 38:\n",
    "Write a Python program that checks if the sum of a list of numbers is greater than 100.\n",
    "\n",
    "```python\n",
    "# Exercise 38\n",
    "```\n",
    "\n",
    "---\n",
    "\n",
    "### Exercise 39:\n",
    "Write a Python function that checks if a given word is a substring of another string.\n",
    "\n",
    "```python\n",
    "# Exercise 39\n",
    "```\n",
    "\n",
    "---\n",
    "\n",
    "### Exercise 40:\n",
    "Write a Python program that checks if a number is a power of 2.\n",
    "\n",
    "```python\n",
    "# Exercise 40\n",
    "```\n",
    "\n",
    "---\n",
    "\n",
    "### Exercise 41:\n",
    "Write a Python function that checks if a string contains no spaces.\n",
    "\n",
    "```python\n",
    "# Exercise 41\n",
    "```\n",
    "\n",
    "---\n",
    "\n",
    "### Exercise 42:\n",
    "Write a Python program that prints \"Yes\" if a number is divisible by both 2 and 3, otherwise it prints \"No.\"\n",
    "\n",
    "```python\n",
    "# Exercise 42\n",
    "```\n",
    "\n",
    "---\n",
    "\n",
    "### Exercise 43:\n",
    "Write a Python program that checks if a number is a palindrome.\n",
    "\n",
    "```python\n",
    "# Exercise 43\n",
    "```\n",
    "\n",
    "---\n",
    "\n",
    "### Exercise 44:\n",
    "Write a Python function that checks if a string is made of only lowercase letters.\n",
    "\n",
    "```python\n",
    "# Exercise 44\n",
    "```\n",
    "\n",
    "---\n",
    "\n",
    "### Exercise 45:\n",
    "Write a Python program that checks if a string starts with a specific prefix.\n",
    "\n",
    "```python\n",
    "# Exercise 45\n",
    "```\n",
    "\n",
    "---\n",
    "\n",
    "### Exercise 46:\n",
    "Write a Python function that checks if a number is divisible by any number in a given list.\n",
    "\n",
    "```python\n",
    "# Exercise 46\n",
    "```\n",
    "\n",
    "---\n",
    "\n",
    "### Exercise 47:\n",
    "Write a Python program that prints \"Yes\" if a string has more than one occurrence of the same letter.\n",
    "\n",
    "```python\n",
    "# Exercise 47\n",
    "```\n",
    "\n",
    "---\n",
    "\n",
    "### Exercise 48:\n",
    "Write a Python function that checks if a number is prime by dividing it by numbers up to its square root.\n",
    "\n",
    "```python\n",
    "# Exercise 48\n",
    "```\n",
    "\n",
    "---\n",
    "\n",
    "### Exercise 49:\n",
    "Write a Python program that checks if a number is within 1 of a multiple of 10.\n",
    "\n",
    "```python\n",
    "# Exercise 49\n",
    "```\n",
    "\n",
    "---\n",
    "\n",
    "### Exercise 50:\n",
    "Write a Python program that prints \"In range\" if a number is between 10 and 20 (inclusive), otherwise it prints \"Out of range.\"\n",
    "\n",
    "```python\n",
    "# Exercise 50\n",
    "```\n",
    "\n",
    "---"
   ]
  }
 ],
 "metadata": {
  "colab": {
   "provenance": []
  },
  "kernelspec": {
   "display_name": "Python [conda env:base] *",
   "language": "python",
   "name": "conda-base-py"
  },
  "language_info": {
   "codemirror_mode": {
    "name": "ipython",
    "version": 3
   },
   "file_extension": ".py",
   "mimetype": "text/x-python",
   "name": "python",
   "nbconvert_exporter": "python",
   "pygments_lexer": "ipython3",
   "version": "3.12.7"
  }
 },
 "nbformat": 4,
 "nbformat_minor": 5
}
